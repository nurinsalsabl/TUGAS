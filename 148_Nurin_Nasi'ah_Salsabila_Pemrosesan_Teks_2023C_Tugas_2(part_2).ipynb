{
  "nbformat": 4,
  "nbformat_minor": 0,
  "metadata": {
    "colab": {
      "provenance": []
    },
    "kernelspec": {
      "name": "python3",
      "display_name": "Python 3"
    },
    "language_info": {
      "name": "python"
    }
  },
  "cells": [
    {
      "cell_type": "code",
      "source": [
        "import requests\n",
        "from bs4 import BeautifulSoup\n",
        "import os\n",
        "from IPython.display import display, Image\n",
        "from PIL import Image as PILImage\n",
        "from io import BytesIO\n"
      ],
      "metadata": {
        "id": "4RfKL8D0mQCF"
      },
      "execution_count": 2,
      "outputs": []
    },
    {
      "cell_type": "code",
      "source": [
        "os.makedirs('images', exist_ok=True)\n",
        "page = requests.get('https://jagokata.com/')\n",
        "bs = BeautifulSoup(page.text, 'html.parser')\n",
        "bs"
      ],
      "metadata": {
        "colab": {
          "base_uri": "https://localhost:8080/"
        },
        "id": "5SgB2AihmUUX",
        "outputId": "1370208d-e6cf-4978-bd35-49fe41624165"
      },
      "execution_count": 3,
      "outputs": [
        {
          "output_type": "execute_result",
          "data": {
            "text/plain": [
              "<!DOCTYPE html>\n",
              "<html lang=\"id\"><head><script>var __ezHttpConsent={setByCat:function(src,tagType,attributes,category,force){var setScript=function(){if(force||window.ezTcfConsent[category]){var scriptElement=document.createElement(tagType);scriptElement.src=src;attributes.forEach(function(attr){for(var key in attr){if(attr.hasOwnProperty(key)){scriptElement.setAttribute(key,attr[key]);}}});var firstScript=document.getElementsByTagName(tagType)[0];firstScript.parentNode.insertBefore(scriptElement,firstScript);}};if(force||(window.ezTcfConsent&&window.ezTcfConsent.loaded)){setScript();}else if(typeof getEzConsentData===\"function\"){getEzConsentData().then(function(ezTcfConsent){if(ezTcfConsent&&ezTcfConsent.loaded){setScript();}else{console.error(\"cannot get ez consent data\");force=true;setScript();}});}else{force=true;setScript();console.error(\"getEzConsentData is not a function\");}},};</script>\n",
              "<script>var ezTcfConsent=window.ezTcfConsent?window.ezTcfConsent:{loaded:false,store_info:false,develop_and_improve_services:false,measure_ad_performance:false,measure_content_performance:false,select_basic_ads:false,create_ad_profile:false,select_personalized_ads:false,create_content_profile:false,select_personalized_content:false,understand_audiences:false,use_limited_data_to_select_content:false,};function getEzConsentData(){return new Promise(function(resolve){document.addEventListener(\"ezConsentEvent\",function(event){var ezTcfConsent=event.detail.ezTcfConsent;resolve(ezTcfConsent);});});}</script>\n",
              "<script>function _setEzCookies(ezConsentData){var cookies=[{name:\"ezosuibasgeneris-1\",value:\"801cbef8-0e3f-43e8-777b-c214ca92d2d0; Path=/; Domain=jagokata.com; Expires=Thu, 02 Oct 2025 15:06:40 UTC; Secure; SameSite=None\",tcfCategory:\"understand_audiences\",isEzoic:\"true\",},{name:\"ezoab_658215\",value:\"mod155; Path=/; Domain=jagokata.com; Expires=Wed, 02 Oct 2024 17:06:40 UTC\",tcfCategory:\"store_info\",isEzoic:\"true\",}];for(var i=0;i<cookies.length;i++){var cookie=cookies[i];if(ezConsentData&&ezConsentData.loaded&&ezConsentData[cookie.tcfCategory]){document.cookie=cookie.name+\"=\"+cookie.value;}}}\n",
              "if(window.ezTcfConsent&&window.ezTcfConsent.loaded){_setEzCookies(window.ezTcfConsent);}else if(typeof getEzConsentData===\"function\"){getEzConsentData().then(function(ezTcfConsent){if(ezTcfConsent&&ezTcfConsent.loaded){_setEzCookies(window.ezTcfConsent);}else{console.error(\"cannot get ez consent data\");_setEzCookies(window.ezTcfConsent);}});}else{console.error(\"getEzConsentData is not a function\");_setEzCookies(window.ezTcfConsent);}</script><script data-cfasync=\"false\" data-ezscrex=\"false\" data-pagespeed-no-defer=\"\">var __ez=__ez||{};__ez.stms=Date.now();__ez.evt={};__ez.script={};__ez.ck=__ez.ck||{};__ez.template={};__ez.template.isOrig=true;window.__ezScriptHost=\"//www.ezojs.com\";__ez.queue=function(){var e=0,i=0,t=[],n=!1,o=[],r=[],s=!0,a=function(e,i,n,o,r,s,a){var l=arguments.length>7&&void 0!==arguments[7]?arguments[7]:window,d=this;this.name=e,this.funcName=i,this.parameters=null===n?null:w(n)?n:[n],this.isBlock=o,this.blockedBy=r,this.deleteWhenComplete=s,this.isError=!1,this.isComplete=!1,this.isInitialized=!1,this.proceedIfError=a,this.fWindow=l,this.isTimeDelay=!1,this.process=function(){u(\"... func = \"+e),d.isInitialized=!0,d.isComplete=!0,u(\"... func.apply: \"+e);var i=d.funcName.split(\".\"),n=null,o=this.fWindow||window;i.length>3||(n=3===i.length?o[i[0]][i[1]][i[2]]:2===i.length?o[i[0]][i[1]]:o[d.funcName]),null!=n&&n.apply(null,this.parameters),!0===d.deleteWhenComplete&&delete t[e],!0===d.isBlock&&(u(\"----- F'D: \"+d.name),m())}},l=function(e,i,t,n,o,r,s){var a=arguments.length>7&&void 0!==arguments[7]?arguments[7]:window,l=this;this.name=e,this.path=i,this.async=o,this.defer=r,this.isBlock=t,this.blockedBy=n,this.isInitialized=!1,this.isError=!1,this.isComplete=!1,this.proceedIfError=s,this.fWindow=a,this.isTimeDelay=!1,this.isPath=function(e){return\"/\"===e[0]&&\"/\"!==e[1]},this.getSrc=function(e){return void 0!==window.__ezScriptHost&&this.isPath(e)&&\"banger.js\"!==this.name?window.__ezScriptHost+e:e},this.process=function(){l.isInitialized=!0,u(\"... file = \"+e);var i=this.fWindow?this.fWindow.document:document,t=i.createElement(\"script\");t.src=this.getSrc(this.path),!0===o?t.async=!0:!0===r&&(t.defer=!0),t.onerror=function(){var e={url:window.location.href,name:l.name,path:l.path,user_agent:window.navigator.userAgent};\"undefined\"!=typeof _ezaq&&(e.pageview_id=_ezaq.page_view_id);var i=encodeURIComponent(JSON.stringify(e)),t=new XMLHttpRequest;t.open(\"GET\",\"//g.ezoic.net/ezqlog?d=\"+i,!0),t.send(),u(\"----- ERR'D: \"+l.name),l.isError=!0,!0===l.isBlock&&m()},t.onreadystatechange=t.onload=function(){var e=t.readyState;u(\"----- F'D: \"+l.name),e&&!/loaded|complete/.test(e)||(l.isComplete=!0,!0===l.isBlock&&m())},i.getElementsByTagName(\"head\")[0].appendChild(t)}},d=function(e,i){this.name=e,this.path=\"\",this.async=!1,this.defer=!1,this.isBlock=!1,this.blockedBy=[],this.isInitialized=!0,this.isError=!1,this.isComplete=i,this.proceedIfError=!1,this.isTimeDelay=!1,this.process=function(){}};function c(e,i,n,s,a,d,c,f,u){var m=new l(e,i,n,s,a,d,c,u);!0===f?o[e]=m:r[e]=m,t[e]=m,h(m)}function h(e){!0!==f(e)&&0!=s&&e.process()}function f(e){if(!0===e.isTimeDelay&&!1===n)return u(e.name+\" blocked = TIME DELAY!\"),!0;if(w(e.blockedBy))for(var i=0;i<e.blockedBy.length;i++){var o=e.blockedBy[i];if(!1===t.hasOwnProperty(o))return u(e.name+\" blocked = \"+o),!0;if(!0===e.proceedIfError&&!0===t[o].isError)return!1;if(!1===t[o].isComplete)return u(e.name+\" blocked = \"+o),!0}return!1}function u(e){var i=window.location.href,t=new RegExp(\"[?&]ezq=([^&#]*)\",\"i\").exec(i);\"1\"===(t?t[1]:null)&&console.debug(e)}function m(){++e>200||(u(\"let's go\"),p(o),p(r))}function p(e){for(var i in e)if(!1!==e.hasOwnProperty(i)){var t=e[i];!0===t.isComplete||f(t)||!0===t.isInitialized||!0===t.isError?!0===t.isError?u(t.name+\": error\"):!0===t.isComplete?u(t.name+\": complete already\"):!0===t.isInitialized&&u(t.name+\": initialized already\"):t.process()}}function w(e){return\"[object Array]\"==Object.prototype.toString.call(e)}return window.addEventListener(\"load\",(function(){setTimeout((function(){n=!0,u(\"TDELAY -----\"),m()}),5e3)}),!1),{addFile:c,addFileOnce:function(e,i,n,o,r,s,a,l,d){t[e]||c(e,i,n,o,r,s,a,l,d)},addDelayFile:function(e,i){var n=new l(e,i,!1,[],!1,!1,!0);n.isTimeDelay=!0,u(e+\" ...  FILE! TDELAY\"),r[e]=n,t[e]=n,h(n)},addFunc:function(e,n,s,l,d,c,f,u,m,p){!0===c&&(e=e+\"_\"+i++);var w=new a(e,n,s,l,d,f,u,p);!0===m?o[e]=w:r[e]=w,t[e]=w,h(w)},addDelayFunc:function(e,i,n){var o=new a(e,i,n,!1,[],!0,!0);o.isTimeDelay=!0,u(e+\" ...  FUNCTION! TDELAY\"),r[e]=o,t[e]=o,h(o)},items:t,processAll:m,setallowLoad:function(e){s=e},markLoaded:function(e){if(e&&0!==e.length){if(e in t){var i=t[e];!0===i.isComplete?u(i.name+\" \"+e+\": error loaded duplicate\"):(i.isComplete=!0,i.isInitialized=!0)}else t[e]=new d(e,!0);u(\"markLoaded dummyfile: \"+t[e].name)}},logWhatsBlocked:function(){for(var e in t)!1!==t.hasOwnProperty(e)&&f(t[e])}}}();__ez.evt.add=function(e,t,n){e.addEventListener?e.addEventListener(t,n,!1):e.attachEvent?e.attachEvent(\"on\"+t,n):e[\"on\"+t]=n()},__ez.evt.remove=function(e,t,n){e.removeEventListener?e.removeEventListener(t,n,!1):e.detachEvent?e.detachEvent(\"on\"+t,n):delete e[\"on\"+t]};__ez.script.add=function(e){var t=document.createElement(\"script\");t.src=e,t.async=!0,t.type=\"text/javascript\",document.getElementsByTagName(\"head\")[0].appendChild(t)};__ez.dot={};__ez.queue.addFile('/detroitchicago/boise.js', '/detroitchicago/boise.js?gcb=195-0&cb=5', true, [], true, false, true, false);__ez.queue.addFile('/parsonsmaize/abilene.js', '/parsonsmaize/abilene.js?gcb=195-0&cb=38', true, [], true, false, true, false);</script>\n",
              "<script data-cfasync=\"false\" data-ezscrex=\"false\" type=\"text/javascript\">window._ezaq = Object.assign({\"ad_cache_level\":1,\"adpicker_placement_cnt\":0,\"ai_placeholder_cache_level\":1,\"ai_placeholder_placement_cnt\":-1,\"domain_id\":658215,\"ezcache_level\":1,\"ezcache_skip_code\":11,\"has_bad_image\":0,\"has_bad_words\":0,\"is_sitespeed\":0,\"lt_cache_level\":0,\"response_size\":37168,\"response_size_orig\":31749,\"response_time_orig\":730,\"template_id\":5,\"url\":\"https://jagokata.com/\",\"word_count\":0,\"worst_bad_word_level\":0}, typeof window._ezaq !== \"undefined\" ? window._ezaq : {});__ez.queue.markLoaded('ezaqBaseReady');</script>\n",
              "<script data-cfasync=\"false\" data-ezscrex=\"false\" type=\"text/javascript\">\n",
              "window.ezAnalyticsStatic = true;\n",
              "\n",
              "function analyticsAddScript(script) {\n",
              "\tvar ezDynamic = document.createElement('script');\n",
              "\tezDynamic.type = 'text/javascript';\n",
              "\tezDynamic.innerHTML = script;\n",
              "\tdocument.head.appendChild(ezDynamic);\n",
              "}\n",
              "function getCookiesWithPrefix() {\n",
              "    var allCookies = document.cookie.split(';');\n",
              "    var cookiesWithPrefix = {};\n",
              "\n",
              "    for (var i = 0; i < allCookies.length; i++) {\n",
              "        var cookie = allCookies[i].trim();\n",
              "\n",
              "        for (var j = 0; j < arguments.length; j++) {\n",
              "            var prefix = arguments[j];\n",
              "            if (cookie.indexOf(prefix) === 0) {\n",
              "                var cookieParts = cookie.split('=');\n",
              "                var cookieName = cookieParts[0];\n",
              "                var cookieValue = cookieParts.slice(1).join('=');\n",
              "                cookiesWithPrefix[cookieName] = decodeURIComponent(cookieValue);\n",
              "                break; // Once matched, no need to check other prefixes\n",
              "            }\n",
              "        }\n",
              "    }\n",
              "\n",
              "    return cookiesWithPrefix;\n",
              "}\n",
              "function productAnalytics() {\n",
              "\tvar d = {};\n",
              "\td.u = _ezaq.url;\n",
              "\td.p = _ezaq.page_view_id;\n",
              "\td.v = _ezaq.visit_uuid;\n",
              "\td.ab = _ezaq.ab_test_id;\n",
              "\td.e = JSON.stringify(_ezaq);\n",
              "\td.ref = document.referrer;\n",
              "\td.c = getCookiesWithPrefix('active_template', 'ez', 'lp_');\n",
              "\tif(typeof ez_utmParams !== 'undefined') {\n",
              "\t\td.utm = ez_utmParams;\n",
              "\t}\n",
              "\n",
              "\tvar dataText = JSON.stringify(d);\n",
              "\tvar xhr = new XMLHttpRequest();\n",
              "\txhr.open('POST','/ezais/analytics?cb=1', true);\n",
              "\txhr.onload = function () {\n",
              "\t\tif (xhr.status!=200) {\n",
              "            return;\n",
              "\t\t}\n",
              "\n",
              "        if(document.readyState !== 'loading') {\n",
              "            analyticsAddScript(xhr.response);\n",
              "            return;\n",
              "        }\n",
              "\n",
              "        var eventFunc = function() {\n",
              "            if(document.readyState === 'loading') {\n",
              "                return;\n",
              "            }\n",
              "            document.removeEventListener('readystatechange', eventFunc, false);\n",
              "            analyticsAddScript(xhr.response);\n",
              "        };\n",
              "\n",
              "        document.addEventListener('readystatechange', eventFunc, false);\n",
              "\t};\n",
              "\txhr.setRequestHeader('Content-Type','text/plain');\n",
              "\txhr.send(dataText);\n",
              "}\n",
              "__ez.queue.addFunc(\"productAnalytics\", \"productAnalytics\", null, true, ['ezaqBaseReady'], false, false, false, true);\n",
              "</script>\n",
              "<base href=\"https://jagokata.com/\"/>\n",
              "<script defer=\"\" src=\"https://ajax.googleapis.com/ajax/libs/jquery/3.7.1/jquery.min.js\"></script>\n",
              "<script>var language='id';var doaction='';</script>\n",
              "<link href=\"https://csi.gstatic.com/\" rel=\"dns-prefetch\"/><link href=\"https://www.googletagmanager.com\" rel=\"dns-prefetch\"/><link href=\"https://stats.g.doubleclick.net\" rel=\"dns-prefetch\"/><link href=\"https://pagead2.googlesyndication.com\" rel=\"dns-prefetch\"/><link href=\"https://tpc.googlesyndication.com\" rel=\"dns-prefetch\"/>\n",
              "<link href=\"https://greatest-quotations.com/\" hreflang=\"en-en\" rel=\"alternate\"/>\n",
              "<link href=\"https://citaten.net/\" hreflang=\"nl-nl\" rel=\"alternate\"/>\n",
              "<link href=\"https://citaten.net/\" hreflang=\"nl-be\" rel=\"alternate\"/>\n",
              "<link href=\"https://citattorget.se/\" hreflang=\"sv-se\" rel=\"alternate\"/>\n",
              "<link href=\"https://aforismen.no/\" hreflang=\"no-no\" rel=\"alternate\"/>\n",
              "<link href=\"https://jagokata.com/\" rel=\"canonical\"/>\n",
              "<meta content=\"https://jagokata.com/\" property=\"og:url\"/>\n",
              "<meta content=\"website\" property=\"og:type\"/>\n",
              "<meta content=\"JagoKata.com\" property=\"og:site_name\"/>\n",
              "<meta content=\"JagoKata.com - kata-kata bijak terkenal, kata mutiara, peribahasa dan arti kata dari KBBI\" property=\"og:title\"/>\n",
              "<meta content=\"Kata-kata bijak, arti kata, kata mutiara, peribahasa dan kutipan terbaik. Situs kata-kata terbesar di Indonesia.\" property=\"og:description\"/>\n",
              "<script async=\"\" crossorigin=\"anonymous\" data-overlays=\"bottom\" src=\"https://pagead2.googlesyndication.com/pagead/js/adsbygoogle.js?client=ca-pub-2897918154666891\"></script>\n",
              "<!-- Global site tag (gtag.js) - Google Analytics -->\n",
              "<script async=\"\" src=\"https://www.googletagmanager.com/gtag/js?id=G-WS7C8FY49F\"></script>\n",
              "<script>window.dataLayer = window.dataLayer || [];function gtag(){dataLayer.push(arguments);}\n",
              "\t  gtag('js', new Date());gtag('config', 'G-WS7C8FY49F');\n",
              "\t</script>\n",
              "<meta content=\"text/html; charset=utf-8\" http-equiv=\"content-type\"/>\n",
              "<meta content=\"0e852767c3e7e1550b8c95672bf58f02\" name=\"propeller\"/>\n",
              "<meta content=\"#00244e\" name=\"theme-color\"/>\n",
              "<link href=\"/sw/icons_jagokata/jagokata_general_icon_x180.png\" rel=\"apple-touch-icon\" sizes=\"180x180\"/>\n",
              "<link href=\"/sw/icons_jagokata/jagokata_general_icon_x1024.png\" rel=\"icon\" sizes=\"1024x1024\" type=\"image/png\"/>\n",
              "<link href=\"/sw/icons_jagokata/jagokata_general_icon_x512.png\" rel=\"icon\" sizes=\"512x512\" type=\"image/png\"/>\n",
              "<link href=\"/sw/icons_jagokata/jagokata_general_icon_x192.png\" rel=\"icon\" sizes=\"192x192\" type=\"image/png\"/>\n",
              "<link href=\"/sw/icons_jagokata/jagokata_general_icon_x32.png\" rel=\"icon\" sizes=\"32x32\" type=\"image/png\"/>\n",
              "<link href=\"/sw/icons_jagokata/jagokata_general_icon_x16.png\" rel=\"icon\" sizes=\"16x16\" type=\"image/png\"/>\n",
              "<link color=\"#2b5797\" href=\"/sw/icons_jagokata/jagokata_maskable_icon.png\" rel=\"mask-icon\"/>\n",
              "<link href=\"/sw/icons_jagokata/favicon.ico\" rel=\"shortcut icon\"/>\n",
              "<link href=\"/sw/manifest_jagokata.json\" rel=\"manifest\"/>\n",
              "<meta content=\"#2b5797\" name=\"msapplication-TileColor\"/>\n",
              "<meta content=\"width=device-width, initial-scale=1\" name=\"viewport\"/>\n",
              "<title>JagoKata.com - kata-kata bijak terkenal, kata mutiara, peribahasa dan arti kata dari KBBI</title>\n",
              "<meta content=\"Kata-kata bijak, arti kata, kata mutiara, peribahasa dan kutipan terbaik. Situs kata-kata terbesar di Indonesia.\" name=\"description\"/>\n",
              "<link href=\"css/main26-min.css?a=6\" rel=\"stylesheet\" type=\"text/css\"/>\n",
              "<script type=\"text/javascript\">\n",
              "var ezoTemplate = 'orig_site';\n",
              "var ezouid = '1';\n",
              "var ezoFormfactor = '1';\n",
              "</script><script data-ezscrex=\"false\" type=\"text/javascript\">\n",
              "var soc_app_id = '0';\n",
              "var did = 658215;\n",
              "var ezdomain = 'jagokata.com';\n",
              "var ezoicSearchable = 1;\n",
              "</script></head>\n",
              "<body id=\"homepage\">\n",
              "<div class=\"hidezoek citatennet\" id=\"top\">\n",
              "<div class=\"inner\">\n",
              "<div id=\"logo\">\n",
              "<a href=\"/\" title=\"jagokata.com kata bijak, kata mutiara, kutipan dan ucapan terkenal \">\n",
              "<img alt=\"jagokata.com kata bijak, kata mutiara, kutipan dan ucapan terkenal \" height=\"40\" src=\"https://jagokata.com/images/logo-kata2.png\" width=\"180\"/>\n",
              "</a>\n",
              "<button aria-label=\"Toggle searchform\" class=\"menu\" id=\"search-toggle\"><img alt=\"toggle zoekform\" src=\"images/ic_action_search.png\"/></button>\n",
              "<button aria-label=\"Menu\" class=\"menu\" id=\"menu-toggle\"></button>\n",
              "</div>\n",
              "<ol id=\"navigation\">\n",
              "<li><a href=\"kata-bijak/\"><i class=\"fa fa-quote-right\"></i>Kata Bijak</a></li>\n",
              "<li><a href=\"arti-kata/\"><i class=\"fa fa-book\"></i>Arti Kata</a></li>\n",
              "<li><a href=\"peribahasa/\"><i class=\"fa fa-comment\"></i>Peribahasa</a></li>\n",
              "<li><a href=\"games/wordle.html\"><i class=\"fa fa-game\"></i>Wordle</a></li>\n",
              "</ol>\n",
              "<div id=\"lightdark\">\n",
              "<input aria-label=\"dark or light mode\" class=\"checkbox\" id=\"darkmodecheckbox\" onchange=\"toggleDarkMode()\" type=\"checkbox\"/>\n",
              "<label class=\"label\" for=\"darkmodecheckbox\">\n",
              "<i class=\"fas fa-moon\"></i><i class=\"fas fa-sun\"></i><em class=\"ball\"></em>\n",
              "</label>\n",
              "</div><script>\n",
              "\t\t\tif (window.localStorage.getItem('darkmode') ==='light' ){\n",
              "\t\t\t\tdocument.documentElement.classList.remove(\"dark\");\n",
              "\t\t\t\tdocument.documentElement.classList.add(\"light\");\n",
              "\t\t\t\tdocument.getElementById(\"darkmodecheckbox\").checked = false\n",
              "\t\t\t} \n",
              "\t\t\tif (window.localStorage.getItem('darkmode') ==='dark' ){\n",
              "\t\t\t\tdocument.documentElement.classList.remove(\"light\");\n",
              "\t\t\t\tdocument.documentElement.classList.add(\"dark\");\n",
              "\t\t\t\tdocument.getElementById(\"darkmodecheckbox\").checked = true\n",
              "\t\t\t} </script>\n",
              "</div>\n",
              "</div>\n",
              "<div id=\"top-margin-unit\"></div>\n",
              "<div id=\"main\">\n",
              "<div class=\"maincontent whitebackground\">\n",
              "<h1>Selamat datang di JagoKata.com.</h1>\n",
              "<p class=\"headingh2\">Situs kata-kata terbasar di Indonesia: sekarang adalah <strong>60349</strong> kata-kata bijak, <strong>2117</strong> peribahasa dan <strong>93714</strong> definisi dan arti kata di database kami. Cari kata-kata bijak, kata mutiara, kutipan, ucapan, kebijaksanaan, peribahasa, dan arti kata menerut KBBI.</p>\n",
              "</div>\n",
              "<div class=\"maincontent bluebackground\">\n",
              "<form action=\"kata-bijak/cari.html\" method=\"post\">\n",
              "<input aria-label=\"Citaat\" id=\"citaat\" name=\"citaat\" placeholder=\"Cari kata-kata bijak\" type=\"text\" value=\"\"/>\n",
              "<button class=\"zoekbutton\" name=\"zoekbutton\" type=\"submit\" value=\"Zoeken\">Cari</button>\n",
              "</form>\n",
              "</div>\n",
              "<div class=\"maincontent whitebackground\">\n",
              "<div class=\"index-box-container sidebarbox\">\n",
              "<h2 class=\"boxheading\">Kata kunci popular</h2>\n",
              "<ul>\n",
              "<li><a href=\"kata-bijak/kata-cinta.html\"><em class=\"urllight\">Kata Bijak tentang  </em>cinta</a></li>\n",
              "<li><a href=\"kata-bijak/kata-rindu.html\"><em class=\"urllight\">Kata Bijak tentang  </em>rindu</a></li>\n",
              "<li><a href=\"kata-bijak/kata-mimpi.html\"><em class=\"urllight\">Kata Bijak tentang  </em>mimpi</a></li>\n",
              "<li><a href=\"kata-bijak/kata-sendiri.html\"><em class=\"urllight\">Kata Bijak tentang  </em>sendiri</a></li>\n",
              "<li><a href=\"kata-bijak/kata-sabar.html\"><em class=\"urllight\">Kata Bijak tentang  </em>sabar</a></li>\n",
              "<li><a href=\"kata-bijak/kata-kesedihan.html\"><em class=\"urllight\">Kata Bijak tentang  </em>kesedihan</a></li>\n",
              "<li><a href=\"kata-bijak/kata-pernikahan.html\"><em class=\"urllight\">Kata Bijak tentang  </em>pernikahan</a></li>\n",
              "<li><a href=\"kata-bijak/kata-kemerdekaan.html\"><em class=\"urllight\">Kata Bijak tentang  </em>kemerdekaan</a></li>\n",
              "<li><a href=\"kata-bijak/kata-kebijaksanaan.html\"><em class=\"urllight\">Kata Bijak tentang  </em>kebijaksanaan</a></li>\n",
              "<li><a href=\"kata-bijak/kata-beruntung.html\"><em class=\"urllight\">Kata Bijak tentang  </em>beruntung</a></li>\n",
              "<li><a href=\"kata-bijak/kata-persahabatan.html\"><em class=\"urllight\">Kata Bijak tentang  </em>persahabatan</a></li>\n",
              "<li class=\"licleared\"><a href=\"https://jagokata.com/kata-kunci/popular.html\"><span>Kata kunci lain</span></a></li>\n",
              "</ul>\n",
              "</div>\n",
              "</div>\n",
              "<div class=\"maincontent whitebackground nopadding\">\n",
              "<div id=\"images-container\">\n",
              "<ul>\n",
              "<li onclick=\"makeactiveimage(0)\"><a href=\"kata-bijak/ali_bin_abi_thalib/3914/aku-sudah-pernah-merasakan-semua-kepahitan-dalam-hidup-dan-yang.html\"><img alt=\"Aku sudah pernah merasakan semua kepahitan dalam hidup dan yang paling pahit ialah berharap kepada manusia.\" data-imageid=\"3914\" data-src=\"https://jagokata.com/images/quote-images//uploads/ali-bin-abi-thalib-aku-sudah-pernah-merasakan-semua-kepahitan-dalam-hidup.jpg\" height=\"164\" src=\"images/quote-image-loading.jpg\" width=\"263\"/></a><i class=\"fa fa-expand\"></i></li>\n",
              "<li onclick=\"makeactiveimage(1)\"><a href=\"kata-bijak/ali_bin_abi_thalib/7502/janganlah-engkau-mengucapkan-perkataan-yang-engkau-sendiri-tak.html\"><img alt=\"Janganlah engkau mengucapkan perkataan yang engkau sendiri tak suka mendengarnya jika orang lain mengucapkannya kepadamu.\" data-imageid=\"7502\" data-src=\"https://jagokata.com/images/quote-images/a/ali-bin-abi-thalib-janganlah-engkau-mengucapkan-perkataan-yang-engkau.jpg\" height=\"164\" src=\"images/quote-image-loading.jpg\" width=\"263\"/></a><i class=\"fa fa-expand\"></i></li>\n",
              "<li onclick=\"makeactiveimage(2)\"><a href=\"kata-bijak/ali_bin_abi_thalib/5363/kesabaran-itu-ada-dua-macam-sabar-atas-sesuatu-yang-tidak-kau.html\"><img alt=\"Kesabaran itu ada dua macam: sabar atas sesuatu yang tidak kau ingin dan sabar menahan diri dari sesuatu yang kau ingini.\" data-imageid=\"5363\" data-src=\"https://jagokata.com/images/quote-images/a/ali-bin-abi-thalib-kesabaran-itu-ada-dua-macam-sabar-atas-sesuatu.jpg\" height=\"164\" src=\"images/quote-image-loading.jpg\" width=\"263\"/></a><i class=\"fa fa-expand\"></i></li>\n",
              "<li onclick=\"makeactiveimage(3)\"><a href=\"kata-bijak/buya_hamka/11569/cinta-itu-perang-yakni-perang-yang-hebat-dalam-rohani-manusia.html\"><img alt=\"Cinta itu perang, yakni perang yang hebat dalam rohani manusia. Jika ia menang, akan didapati orang yang tulus ikhlas, luas pikiran, sabar dan tenang hati. Jika ia kalah, akan didapati orang yang putus asa, sesat, lemah hati, kecil perasaan dan bahkan kadang-kadang hilang kepercayaan pada diri sendi\" data-imageid=\"11569\" data-src=\"https://jagokata.com/images/quote-images/b/buya-hamka-cinta-itu-perang-yakni-perang-yang-hebat-dalam.jpg\" height=\"164\" src=\"images/quote-image-loading.jpg\" width=\"263\"/></a><i class=\"fa fa-expand\"></i></li>\n",
              "<li onclick=\"makeactiveimage(4)\"><a href=\"kata-bijak/tere_liye/3532/cinta-selalu-saja-misterius-jangan-diburuburu-atau-kau-akan.html\"><img alt=\"Cinta selalu saja misterius. Jangan diburu-buru, atau kau akan merusak jalan ceritanya sendiri.\" data-imageid=\"3532\" data-src=\"https://jagokata.com/images/quote-images/t/tere-liye-cinta-selalu-saja-misterius-jangan-diburuburu.jpg\" height=\"164\" src=\"images/quote-image-loading.jpg\" width=\"263\"/></a><i class=\"fa fa-expand\"></i></li>\n",
              "<li onclick=\"makeactiveimage(5)\"><a href=\"kata-bijak/ali_bin_abi_thalib/5336/jangan-menjelaskan-tentang-dirimu-kepada-siapapun-karena-yang.html\"><img alt=\"Jangan menjelaskan tentang dirimu kepada siapapun, karena yang menyukaimu tidak butuh itu. Dan yang membencimu tidak percaya itu.\" data-imageid=\"5336\" data-src=\"https://jagokata.com/images/quote-images/a/ali-bin-abi-thalib-jangan-menjelaskan-tentang-dirimu-kepada-siapapun.jpg\" height=\"164\" src=\"images/quote-image-loading.jpg\" width=\"263\"/></a><i class=\"fa fa-expand\"></i></li>\n",
              "<li onclick=\"makeactiveimage(6)\"><a href=\"kata-bijak/albert_einstein/9984/orang-bodoh-seringkali-beralasan-sabar-terhadap-segala-sesuatu.html\"><img alt=\"Orang bodoh seringkali beralasan sabar terhadap segala sesuatu yang sebenarnya dia mengalah dengan keadaan tanpa pernah berusaha.\" data-imageid=\"9984\" data-src=\"https://jagokata.com/images/quote-images/a/albert-einstein-orang-bodoh-seringkali-beralasan-sabar-terhadap.jpg\" height=\"164\" src=\"images/quote-image-loading.jpg\" width=\"263\"/></a><i class=\"fa fa-expand\"></i></li>\n",
              "<li onclick=\"makeactiveimage(7)\"><a href=\"kata-bijak/mahatma_gandhi/252/jadilah-kamu-manusia-yang-pada-kelahiranmu-semua-orang-tertawa.html\"><img alt=\"Jadilah kamu manusia yang pada kelahiranmu semua orang tertawa bahagia, tetapi hanya kamu sendiri yang menangis dan pada kematianmu semua orang menangis sedih, tetapi hanya kamu sendiri yang tersenyum.\" data-imageid=\"252\" data-src=\"https://jagokata.com/images/quote-images//uploads/mahatma-gandhi-jadilah-kamu-manusia-yang-pada-kelahiranmu-semua-orang.jpg\" height=\"164\" src=\"images/quote-image-loading.jpg\" width=\"263\"/></a><i class=\"fa fa-expand\"></i></li>\n",
              "</ul>\n",
              "</div>\n",
              "</div>\n",
              "<div class=\"maincontent grAuteureybackground\">\n",
              "<div class=\"index-box-container sidebarbox\">\n",
              "<h2 class=\"boxheading\">Tokoh popular</h2>\n",
              "<ul>\n",
              "<li><a href=\"kata-bijak/dari-nelson_mandela.html\">\n",
              "<img alt=\"Pernyataan oleh Nelson Mandela\" data-src=\"https://jagokata.com/images/fotos/Nelson_Mandela.jpg\" height=\"53\" src=\"images/onbekend.jpg\" width=\"40\"/>\n",
              "<span>Nelson Mandela<br/><em>(1918-2013)</em></span>\n",
              "</a></li>\n",
              "<li><a href=\"kata-bijak/dari-pramoedya_ananta_toer.html\">\n",
              "<img alt=\"Pernyataan oleh Pramoedya Ananta Toer\" data-src=\"https://jagokata.com/images/fotos/Pramoedya_Ananta_Toer.jpg\" height=\"53\" src=\"images/onbekend.jpg\" width=\"40\"/>\n",
              "<span>Pramoedya Ananta Toer<br/><em>(1925-2006)</em></span>\n",
              "</a></li>\n",
              "<li><a href=\"kata-bijak/dari-soekarno.html\">\n",
              "<img alt=\"Pernyataan oleh Soekarno\" data-src=\"https://jagokata.com/images/fotos/Soekarno.jpg\" height=\"53\" src=\"images/onbekend.jpg\" width=\"40\"/>\n",
              "<span>Soekarno<br/><em>(1901-1970)</em></span>\n",
              "</a></li>\n",
              "<li><a href=\"kata-bijak/dari-ali_bin_abi_thalib.html\">\n",
              "<img alt=\"Pernyataan oleh Ali bin Abi Thalib\" data-src=\"https://jagokata.com/images/fotos/Ali_bin_Abi_Thalib.jpg\" height=\"53\" src=\"images/onbekend.jpg\" width=\"40\"/>\n",
              "<span>Ali bin Abi Thalib<br/><em>(599-661)</em></span>\n",
              "</a></li>\n",
              "<li><a href=\"kata-bijak/dari-tere_liye.html\">\n",
              "<img alt=\"Pernyataan oleh Tere Liye\" data-src=\"https://jagokata.com/images/fotos/Tere_Liye.jpg\" height=\"53\" src=\"images/onbekend.jpg\" width=\"40\"/>\n",
              "<span>Tere Liye<br/><em>(1962-)</em></span>\n",
              "</a></li>\n",
              "<li><a href=\"kata-bijak/dari-albert_einstein.html\">\n",
              "<img alt=\"Pernyataan oleh Albert Einstein\" data-src=\"https://jagokata.com/images/fotos/Albert_Einstein.jpg\" height=\"53\" src=\"images/onbekend.jpg\" width=\"40\"/>\n",
              "<span>Albert Einstein<br/><em>(1879-1955)</em></span>\n",
              "</a></li>\n",
              "<li><a href=\"kata-bijak/dari-mario_teguh.html\">\n",
              "<img alt=\"Pernyataan oleh Mario Teguh\" data-src=\"https://jagokata.com/images/fotos/Mario_Teguh.jpg\" height=\"53\" src=\"images/onbekend.jpg\" width=\"40\"/>\n",
              "<span>Mario Teguh<br/><em>(1956- )</em></span>\n",
              "</a></li>\n",
              "<li><a href=\"kata-bijak/dari-buya_hamka.html\">\n",
              "<img alt=\"Pernyataan oleh Buya Hamka\" data-src=\"https://jagokata.com/images/fotos/Buya_Hamka.jpg\" height=\"53\" src=\"images/onbekend.jpg\" width=\"40\"/>\n",
              "<span>Buya Hamka<br/><em>(1908-1981)</em></span>\n",
              "</a></li>\n",
              "<li class=\"licleared\"><a href=\"https://jagokata.com/tokoh/semua-tokoh.html\"><span>Semua tokoh </span></a></li>\n",
              "<li><a href=\"https://jagokata.com/tokoh/popular.html\"><span>Tokoh popular</span></a></li>\n",
              "</ul>\n",
              "</div>\n",
              "<div class=\"index-box-container sidebarbox\">\n",
              "<h2 class=\"boxheading\">Tokoh menurut negara</h2>\n",
              "<ul>\n",
              "<li><a href=\"tokoh/negara-amerika_serikat.html \"><img alt=\"Flag\" class=\"flag24\" src=\"images/flags32x32/us.png\"/>Amerika Serikat</a></li>\n",
              "<li><a href=\"tokoh/negara-indonesia.html \"><img alt=\"Flag\" class=\"flag24\" src=\"images/flags32x32/id.png\"/>Indonesia</a></li>\n",
              "<li><a href=\"tokoh/negara-britania_raya.html \"><img alt=\"Flag\" class=\"flag24\" src=\"images/flags32x32/gb.png\"/>Britania Raya</a></li>\n",
              "<li><a href=\"tokoh/negara-perancis.html \"><img alt=\"Flag\" class=\"flag24\" src=\"images/flags32x32/fr.png\"/>Perancis</a></li>\n",
              "<li><a href=\"tokoh/negara-jerman.html \"><img alt=\"Flag\" class=\"flag24\" src=\"images/flags32x32/de.png\"/>Jerman</a></li>\n",
              "<li><a href=\"tokoh/negara-austria.html \"><img alt=\"Flag\" class=\"flag24\" src=\"images/flags32x32/at.png\"/>Austria</a></li>\n",
              "<li><a href=\"tokoh/negara-kanada.html \"><img alt=\"Flag\" class=\"flag24\" src=\"images/flags32x32/ca.png\"/>Kanada</a></li>\n",
              "<li><a href=\"tokoh/negara-italia.html \"><img alt=\"Flag\" class=\"flag24\" src=\"images/flags32x32/it.png\"/>Italia</a></li>\n",
              "<li><a href=\"tokoh/negara-irlandia.html \"><img alt=\"Flag\" class=\"flag24\" src=\"images/flags32x32/ie.png\"/>Irlandia</a></li>\n",
              "<li><a href=\"tokoh/negara-yunani.html \"><img alt=\"Flag\" class=\"flag24\" src=\"images/flags32x32/gr.png\"/>Yunani</a></li>\n",
              "<li><a href=\"tokoh/negara-india.html \"><img alt=\"Flag\" class=\"flag24\" src=\"images/flags32x32/in.png\"/>India</a></li>\n",
              "<li><a href=\"tokoh/negara-spanyol.html \"><img alt=\"Flag\" class=\"flag24\" src=\"images/flags32x32/es.png\"/>Spanyol</a></li>\n",
              "</ul>\n",
              "</div>\n",
              "<div class=\"sidebarbox\">\n",
              "<h2 class=\"boxheading\">Orang-orang terkenal yang lahir atau meninggal pada hari ini</h2>\n",
              "<ul class=\"halfbox\"><li><h3>Lahir:</h3></li>\n",
              "<li><a href=\"kata-bijak/dari-mahatma_gandhi.html\">Mahatma Gandhi<br/><em>(2 Oktober 1869 - 30 Januari 1948)</em></a></li>\n",
              "<li><a href=\"kata-bijak/dari-donna_karan.html\">Donna Karan<br/><em>(2 Oktober 1948 -   )</em></a></li>\n",
              "<li><a href=\"kata-bijak/dari-george_santayana.html\">George Santayana<br/><em>(2 Oktober 1863 - 16 September 1952)</em></a></li>\n",
              "<li><a href=\"kata-bijak/dari-groucho_marx.html\">Groucho Marx<br/><em>(2 Oktober 1890 - 19 augustus 1977)</em></a></li>\n",
              "<li><a href=\"kata-bijak/dari-graham_greene.html\">Graham Greene<br/><em>(2 Oktober 1904 - 3 April 1991)</em></a></li>\n",
              "<li><a href=\"kata-bijak/dari-wallace_stevens.html\">Wallace Stevens<br/><em>(2 Oktober 1879 - 2 augustus 1955)</em></a></li>\n",
              "</ul><ul class=\"halfbox\"><li><h3>Meninggal:</h3></li>\n",
              "<li><a href=\"kata-bijak/dari-tom_petty.html\">Tom Petty<br/><em>(20 Oktober 1950 - 2 Oktober 2017)</em></a> </li>\n",
              "<li><a href=\"kata-bijak/dari-william_ellery_channing.html\">William Ellery Channing<br/><em>(7 April 1780 - 2 Oktober 1842)</em></a> </li>\n",
              "<li><a href=\"kata-bijak/dari-ernest_renan.html\">Ernest Renan<br/><em>(28 Februari 1823 - 2 Oktober 1892)</em></a> </li>\n",
              "<li><a href=\"kata-bijak/dari-marcel_duchamp.html\">Marcel Duchamp<br/><em>(28 Juli 1887 - 2 Oktober 1968)</em></a> </li>\n",
              "<li><a href=\"kata-bijak/dari-norman_o._brown.html\">Norman O. Brown<br/><em>(25 September 1913 - 2 Oktober 2002)</em></a> </li>\n",
              "</ul></div>\n",
              "<div class=\"adsense adsense-main\" id=\"gg\">\n",
              "<ins class=\"adsbygoogle\" data-ad-client=\"ca-pub-2897918154666891\" data-ad-slot=\"5558200334\" style=\"display:block\"></ins>\n",
              "</div><script>\n",
              "\t\t\t(adsbygoogle = window.adsbygoogle || []).push({});\n",
              "\t\t</script>\n",
              "</div>\n",
              "<div class=\"clearfloat\"></div>\n",
              "<div class=\"maincontent whitebackground\">\n",
              "<h2>Arti kata menerut KBBI<i class=\"fa fa-book\"></i></h2>\n",
              "<div class=\"index-box-container half-index-box-container sidebarbox\">\n",
              "<h3>Kata Kamus popular</h3><ul>\n",
              "<li><a href=\"https://jagokata.com/arti-kata/anak.html\"><em class=\"urllight\">Arti kata</em> anak</a></li>\n",
              "<li><a href=\"https://jagokata.com/arti-kata/batu.html\"><em class=\"urllight\">Arti kata</em> batu</a></li>\n",
              "<li><a href=\"https://jagokata.com/arti-kata/ilmu.html\"><em class=\"urllight\">Arti kata</em> ilmu</a></li>\n",
              "<li><a href=\"https://jagokata.com/arti-kata/makan.html\"><em class=\"urllight\">Arti kata</em> makan</a></li>\n",
              "<li><a href=\"https://jagokata.com/arti-kata/uang.html\"><em class=\"urllight\">Arti kata</em> uang</a></li>\n",
              "<li><a href=\"https://jagokata.com/arti-kata/angin.html\"><em class=\"urllight\">Arti kata</em> angin</a></li>\n",
              "<li><a href=\"https://jagokata.com/arti-kata/minyak.html\"><em class=\"urllight\">Arti kata</em> minyak</a></li>\n",
              "<li><a href=\"https://jagokata.com/arti-kata/jalan.html\"><em class=\"urllight\">Arti kata</em> jalan</a></li>\n",
              "<li><a href=\"https://jagokata.com/arti-kata/ikan.html\"><em class=\"urllight\">Arti kata</em> ikan</a></li>\n",
              "<li><a href=\"https://jagokata.com/arti-kata/mata.html\"><em class=\"urllight\">Arti kata</em> mata</a></li>\n",
              "</ul>\n",
              "</div>\n",
              "<div class=\"index-box-container half-index-box-container sidebarbox\">\n",
              "<h3>Pencarian arti terakhir</h3><ul>\n",
              "<li><a href=\"https://jagokata.com/arti-kata/perlindungan.html\"><em class=\"urllight\">Arti kata</em> perlindungan</a></li>\n",
              "<li><a href=\"https://jagokata.com/arti-kata/visual.html\"><em class=\"urllight\">Arti kata</em> visual</a></li>\n",
              "<li><a href=\"https://jagokata.com/arti-kata/serba-.html\"><em class=\"urllight\">Arti kata</em> serba-</a></li>\n",
              "<li><a href=\"https://jagokata.com/arti-kata/suplesi.html\"><em class=\"urllight\">Arti kata</em> suplesi</a></li>\n",
              "<li><a href=\"https://jagokata.com/arti-kata/gedik.html\"><em class=\"urllight\">Arti kata</em> gedik</a></li>\n",
              "<li><a href=\"https://jagokata.com/arti-kata/vulgar.html\"><em class=\"urllight\">Arti kata</em> vulgar</a></li>\n",
              "<li><a href=\"https://jagokata.com/arti-kata/lazim.html\"><em class=\"urllight\">Arti kata</em> lazim</a></li>\n",
              "<li><a href=\"https://jagokata.com/arti-kata/evokasi.html\"><em class=\"urllight\">Arti kata</em> evokasi</a></li>\n",
              "<li><a href=\"https://jagokata.com/arti-kata/seyogianya.html\"><em class=\"urllight\">Arti kata</em> seyogianya</a></li>\n",
              "<li><a href=\"https://jagokata.com/arti-kata/karitatif.html\"><em class=\"urllight\">Arti kata</em> karitatif</a></li>\n",
              "</ul>\n",
              "</div>\n",
              "<div class=\"clearfloat\"></div>\n",
              "<h2>Peribahasa<i class=\"fa fa-comment\"></i></h2>\n",
              "<div class=\"index-box-container half-index-box-container sidebarbox\">\n",
              "<h3>Kata Peribahasa popular</h3><ul>\n",
              "<li><a href=\"https://jagokata.com/peribahasa/mulut.html\" title=\"Peribahasa pakai mulut\"><em class=\"urllight\">Peribahasa tentang</em> mulut</a></li>\n",
              "<li><a href=\"https://jagokata.com/peribahasa/padi.html\" title=\"Peribahasa pakai padi\"><em class=\"urllight\">Peribahasa tentang</em> padi</a></li>\n",
              "<li><a href=\"https://jagokata.com/peribahasa/tangan.html\" title=\"Peribahasa pakai tangan\"><em class=\"urllight\">Peribahasa tentang</em> tangan</a></li>\n",
              "<li><a href=\"https://jagokata.com/peribahasa/ikan.html\" title=\"Peribahasa pakai ikan\"><em class=\"urllight\">Peribahasa tentang</em> ikan</a></li>\n",
              "<li><a href=\"https://jagokata.com/peribahasa/hidung.html\" title=\"Peribahasa pakai hidung\"><em class=\"urllight\">Peribahasa tentang</em> hidung</a></li>\n",
              "<li><a href=\"https://jagokata.com/peribahasa/hitam.html\" title=\"Peribahasa pakai hitam\"><em class=\"urllight\">Peribahasa tentang</em> hitam</a></li>\n",
              "<li><a href=\"https://jagokata.com/peribahasa/hujan.html\" title=\"Peribahasa pakai hujan\"><em class=\"urllight\">Peribahasa tentang</em> hujan</a></li>\n",
              "<li><a href=\"https://jagokata.com/peribahasa/hidup.html\" title=\"Peribahasa pakai hidup\"><em class=\"urllight\">Peribahasa tentang</em> hidup</a></li>\n",
              "<li><a href=\"https://jagokata.com/peribahasa/anak.html\" title=\"Peribahasa pakai anak\"><em class=\"urllight\">Peribahasa tentang</em> anak</a></li>\n",
              "</ul>\n",
              "</div>\n",
              "<div class=\"index-box-container half-index-box-container sidebarbox\">\n",
              "<h3>Pencarian Peribahasa terakhir</h3><ul>\n",
              "<li><a href=\"https://jagokata.com/peribahasa/gula.html\" title=\"Peribahasa gula\"><em class=\"urllight\">Peribahasa pakai</em> gula</a></li>\n",
              "<li><a href=\"https://jagokata.com/peribahasa/rumpun.html\" title=\"Peribahasa rumpun\"><em class=\"urllight\">Peribahasa pakai</em> rumpun</a></li>\n",
              "<li><a href=\"https://jagokata.com/peribahasa/dekat.html\" title=\"Peribahasa dekat\"><em class=\"urllight\">Peribahasa pakai</em> dekat</a></li>\n",
              "<li><a href=\"https://jagokata.com/peribahasa/dagang.html\" title=\"Peribahasa dagang\"><em class=\"urllight\">Peribahasa pakai</em> dagang</a></li>\n",
              "<li><a href=\"https://jagokata.com/peribahasa/ilalang.html\" title=\"Peribahasa ilalang\"><em class=\"urllight\">Peribahasa pakai</em> ilalang</a></li>\n",
              "<li><a href=\"https://jagokata.com/peribahasa/tunggu.html\" title=\"Peribahasa tunggu\"><em class=\"urllight\">Peribahasa pakai</em> tunggu</a></li>\n",
              "<li><a href=\"https://jagokata.com/peribahasa/sawah.html\" title=\"Peribahasa sawah\"><em class=\"urllight\">Peribahasa pakai</em> sawah</a></li>\n",
              "<li><a href=\"https://jagokata.com/peribahasa/ketungkul.html\" title=\"Peribahasa ketungkul\"><em class=\"urllight\">Peribahasa pakai</em> ketungkul</a></li>\n",
              "<li><a href=\"https://jagokata.com/peribahasa/perut.html\" title=\"Peribahasa perut\"><em class=\"urllight\">Peribahasa pakai</em> perut</a></li>\n",
              "<li><a href=\"https://jagokata.com/peribahasa/itik.html\" title=\"Peribahasa itik\"><em class=\"urllight\">Peribahasa pakai</em> itik</a></li>\n",
              "</ul>\n",
              "</div>\n",
              "</div></div>\n",
              "<div id=\"footer-main\">\n",
              "<div class=\"footer-blocks-container footer-jagokata\">\n",
              "<div class=\"footer-blocks\">\n",
              "<ul>\n",
              "<li><h3>Kata Bijak</h3></li>\n",
              "<li><a href=\"kata-bijak/popular.html\">Top 100</a></li>\n",
              "<li><a href=\"kata-bijak/acak.html\">Acak</a></li>\n",
              "<li><a href=\"tokoh/semua-tokoh.html\">Tokoh</a></li>\n",
              "<li><a href=\"kata-kunci/popular.html\">Kata kunci</a></li>\n",
              "</ul>\n",
              "</div>\n",
              "<div class=\"footer-blocks\">\n",
              "<ul>\n",
              "<li><h3>Arti Kata</h3></li>\n",
              "<li><a href=\"arti-kata/daftar-kata-a.html\">Daftar Kata</a></li>\n",
              "<li><a href=\"arti-kata/arti-kata-acak.html\">Acak</a></li>\n",
              "</ul>\n",
              "</div>\n",
              "<div class=\"footer-blocks\">\n",
              "<ul>\n",
              "<li><h3>Peribahasa</h3></li>\n",
              "<li><a href=\"peribahasa/daftar-kata-a.html\">Daftar Kata</a></li>\n",
              "<li><a href=\"peribahasa/peribahasa-acak.html\">Acak</a></li>\n",
              "</ul>\n",
              "</div>\n",
              "<div class=\"footer-blocks\">\n",
              "<ul>\n",
              "<li><h3>Games</h3></li>\n",
              "<li><a href=\"games/wordle.html\">Wordle</a></li>\n",
              "</ul>\n",
              "</div>\n",
              "</div>\n",
              "<div class=\"footer-blocks-container footer-secondrow\">\n",
              "<img alt=\"JagoKata\" data-src=\"images/jagokata-footer-logo.png\" height=\"40\" width=\"170\"/>\n",
              "<ul>\n",
              "<li><a href=\"privasi.html\">Privasi</a></li>\n",
              "<li><a href=\"contact.html\" rel=\"nofollow\">Kontak</a></li>\n",
              "</ul>\n",
              "</div>\n",
              "<div class=\"copyright-container\"><span class=\"copyright\">(c) 2016-2024 JagoKata</span></div>\n",
              "</div>\n",
              "<div id=\"adblockactief\" style=\"display:none;\">\n",
              "<h3>Pemblokir iklan aktif.</h3><p style=\"line-height: 140%;\">Oh tidak. Anda menggunakan pemblokir iklan. Bisakah Anda menonaktifkan ini untuk JagoKata.com? <br/>Kami hanya menampilkan beberapa spanduk yang menarik perhatian untuk memastikan bahwa halaman ini ada dan pembuat halaman ini juga mendapatkan sesuatu atas karyanya. <br/>Terima kasih!</p>\n",
              "</div>\n",
              "<script>\n",
              "var mainurl=document.location.origin+\"/\";function hidesearchdivx(){$(\"#zoek-container\").is(\":visible\")?$(\"#top\").addClass(\"hidezoek\"):($(\"#top\").removeClass(\"hidezoek\"),$(\"#zoek-container input\").focus())}function shame(){\"use strict\";0===$(\"#bottom-ad\").height()&&$(\"#adblockactief\").slideDown(1e3)}function getSelectedText(){return window.getSelection?window.getSelection():document.selection?document.selection.createRange().text:\"\"}function RefreshImage(e){var t=document.images[e];if(void 0!=t){var i=new Date;t.src=t.src.split(\"?\")[0]+\"?x=\"+i.toUTCString()}}var activeimage=0,doaction=\"\",notclickedyet=!1,quoteimages=\"\";function toggleDarkMode(){document.documentElement.classList.contains(\"light\")?(document.documentElement.classList.remove(\"light\"),document.documentElement.classList.add(\"dark\")):document.documentElement.classList.contains(\"dark\")?(document.documentElement.classList.remove(\"dark\"),document.documentElement.classList.add(\"light\")):window.matchMedia&&window.matchMedia(\"(prefers-color-scheme: dark)\").matches?document.documentElement.classList.add(\"light\"):document.documentElement.classList.add(\"dark\"),document.documentElement.classList.contains(\"light\")?window.localStorage.setItem(\"darkmode\",\"light\"):window.localStorage.setItem(\"darkmode\",\"dark\")}window.addEventListener(\"load\",function(){var e;jQuery(function(){jQuery(\"#doubleclickselect\").mouseup(function(){var e=getSelectedText();jQuery(\"#zoek-container input\").val(e)})}),$(\"#search-toggle\").click(function(){$(\"#zoek-container\").is(\":visible\")?$(\"#zoek-container\").slideUp():($(\"#zoek-container\").slideDown(),$(\"#zoek-container input\").focus())}),(e=window.jQuery||window.Zepto).fn.unveil=function(t,i){var n,o=e(window),s=t||0,a=window.devicePixelRatio>1?\"data-src-retina\":\"data-src\",c=this;function l(){n=c.filter(function(){var t=e(this),i=o.scrollTop(),n=i+o.height(),a=t.offset().top;return a+t.height()>=i-s&&a<=n+s}).trigger(\"unveil\"),c=c.not(n)}return this.one(\"unveil\",function(){var e=this.getAttribute(a);(e=e||this.getAttribute(\"data-src\"))&&(this.setAttribute(\"src\",e),\"function\"==typeof i&&i.call(this))}),o.on(\"scroll.unveil resize.unveil lookup.unveil\",l),l(),this},$(\"#images-container li a\").click(function(e){e.preventDefault()}),setTimeout(shame(),1500),$(this).scrollTop()>30&&$(\"#top\").addClass(\"smallhead\"),$(window).scroll(function(){$(this).scrollTop()>30?$(\"#top\").addClass(\"smallhead\"):$(\"#top\").removeClass(\"smallhead\")}),$(\"#menu-toggle\").click(function(){\"use strict\";$(\"#navigation\").is(\":visible\")?$(\"#navigation\").slideUp():$(\"#navigation\").slideDown()}),$(\"img\").unveil(500)}),\"serviceWorker\"in navigator&&navigator.serviceWorker.register(\"/sw/service-worker2.js\",{scope:\"/\"}).then(e=>{}).catch(e=>{});\n",
              "</script>\n",
              "<script>\n",
              "function makeimagehtml(){if(!notclickedyet){quoteimages=jQuery.makeArray($(\"#images-container li img\"));var i='<div id=\"images-overlay\"></div>';i+='<div id=\"images-show-ontop\" >',i+='<div id=\"images-overlay-buttons\">',i+=' <div id=\"images-show-crossclose\" onclick=\"hideactiveimage();\" >X</div> ',i+=' <div class=\"nextprevbutton\" id=\"images-show-prevbutton\" onclick=\"previousimage();\" ><</div> ',i+=' <div class=\"nextprevbutton\" id=\"images-show-nextbutton\" onclick=\"nextimage();\" >></div> ',i+='<div id=\"image-full-container\"></div></div>',i+='<div id=\"image-shareoptions\">',i+='<i class=\"fa fa-share-alt\" onclick=\"gotoshareimage()\"></i>',i+='<i class=\"fa fa-facebook\" onclick=\"imagessharefacebook()\"></i>',i+='<i class=\"fa fa-twitter\" onclick=\"imagessharetwitter()\"></i>',i+='<a href=\"\" download=\"\" style=\"color:#000\" id=\"ahrefdownloadimage\" class=\"fa fa-download\"></a>',i+='<i class=\"fa fa-picture-o\" onclick=\"editpicthis()\"></i>',i+=\"</div>\",i+=\"</div>  \",notclickedyet=!0,$(\"body\").append(i),$(\"#images-overlay\").click(function(i){hideactiveimage()})}}function imagessharefacebook(){hideactiveimage();var i=quoteimages[activeimage].dataset.imageid;window.location.href=mainurl+\"pages/go-to-facebook.asp?lng=&imageid=\"+i}function imagessharetwitter(){hideactiveimage();var i=quoteimages[activeimage].dataset.imageid;window.location.href=mainurl+\"pages/go-to-twitter.asp?lng=&imageid=\"+i}function hideactiveimage(){$(\"#images-show-ontop\").fadeOut(\"200\"),$(\"#image-shareoptions\").fadeOut(\"200\",function(){$(\"#images-overlay\").fadeOut(\"200\",function(){$(\"#image-full-container\").html(\"\")})})}function previousimage(){activeimage>0&&makeactiveimage(activeimage-1)}function nextimage(){activeimage<quoteimages.length&&makeactiveimage(activeimage+1)}function makeactiveimage(i){makeimagehtml(),$(\".nextprevbutton\").hide(),console.log(quoteimages),activeimage=i,$(\"#image-full-container\").html(quoteimages[i].outerHTML),$(\"#images-overlay\").fadeIn(\"200\",function(){$(\"#image-shareoptions\").fadeIn(\"200\"),$(\"#ahrefdownloadimage\").attr(\"href\",quoteimages[i].src),$(\"#images-show-ontop\").fadeIn(\"200\",function(){$(\".nextprevbutton\").show(),0==i&&$(\"#images-show-prevbutton\").hide(),i+1==quoteimages.length&&$(\"#images-show-nextbutton\").hide()})})}async function gotoshareimage(){var i=$($(\"#images-container li\").get(activeimage)).find(\"a\").attr(\"href\");let e=await fetch(quoteimages[activeimage].src),a=await e.blob(),t=[new File([a],\"quote.jpg\",{type:\"image/jpeg\",lastModified:new Date().getTime()})];navigator.share({title:\"Share a quote\",files:t,url:i})}function editpicthis(){hideactiveimage();var i=$($(\"#images-container li\").get(activeimage)).find(\"a\").attr(\"href\");window.location.href=mainurl+i}\n",
              "</script>\n",
              "<script data-cfasync=\"false\">function _emitEzConsentEvent(){var customEvent=new CustomEvent(\"ezConsentEvent\",{detail:{ezTcfConsent:window.ezTcfConsent},bubbles:true,cancelable:true,});document.dispatchEvent(customEvent);}\n",
              "(function(window,document){function _setAllEzConsentTrue(){window.ezTcfConsent.loaded=true;window.ezTcfConsent.store_info=true;window.ezTcfConsent.develop_and_improve_services=true;window.ezTcfConsent.measure_ad_performance=true;window.ezTcfConsent.measure_content_performance=true;window.ezTcfConsent.select_basic_ads=true;window.ezTcfConsent.create_ad_profile=true;window.ezTcfConsent.select_personalized_ads=true;window.ezTcfConsent.create_content_profile=true;window.ezTcfConsent.select_personalized_content=true;window.ezTcfConsent.understand_audiences=true;window.ezTcfConsent.use_limited_data_to_select_content=true;window.ezTcfConsent.select_personalized_content=true;}\n",
              "function _clearEzConsentCookie(){document.cookie=\"ezCMPCookieConsent=tcf2;Domain=.jagokata.com;Path=/;expires=Thu, 01 Jan 1970 00:00:00 GMT\";}\n",
              "_clearEzConsentCookie();if(typeof window.__tcfapi!==\"undefined\"){window.ezgconsent=false;var amazonHasRun=false;function _ezAllowed(tcdata,purpose){return(tcdata.purpose.consents[purpose]||tcdata.purpose.legitimateInterests[purpose]);}\n",
              "function _reloadAds(){if(typeof window.ezorefgsl===\"function\"&&typeof window.ezslots===\"object\"){if(typeof __ezapsFetchBids==\"function\"&&amazonHasRun===false){ezapsFetchBids(__ezaps);if(typeof __ezapsVideo!=\"undefined\"){ezapsFetchBids(__ezapsVideo,\"video\");}\n",
              "amazonHasRun=true;}\n",
              "var slots=[];for(var i=0;i<window.ezslots.length;i++){if(window[window.ezslots[i]]&&typeof window[window.ezslots[i]]===\"object\"){slots.push(window[window.ezslots[i]]);}else{setTimeout(_reloadAds,100);return false;}}\n",
              "for(var i=0;i<slots.length;i++){window.ezorefgsl(slots[i]);}}else if(!window.ezadtimeoutset){window.ezadtimeoutset=true;setTimeout(_reloadAds,100);}}\n",
              "function _handleConsentDecision(tcdata){window.ezTcfConsent.loaded=true;if(!tcdata.vendor.consents[\"347\"]&&!tcdata.vendor.legitimateInterests[\"347\"]){window._emitEzConsentEvent();return;}\n",
              "window.ezTcfConsent.store_info=_ezAllowed(tcdata,\"1\");window.ezTcfConsent.develop_and_improve_services=_ezAllowed(tcdata,\"10\");window.ezTcfConsent.measure_content_performance=_ezAllowed(tcdata,\"8\");window.ezTcfConsent.select_basic_ads=_ezAllowed(tcdata,\"2\");window.ezTcfConsent.create_ad_profile=_ezAllowed(tcdata,\"3\");window.ezTcfConsent.select_personalized_ads=_ezAllowed(tcdata,\"4\");window.ezTcfConsent.create_content_profile=_ezAllowed(tcdata,\"5\");window.ezTcfConsent.measure_ad_performance=_ezAllowed(tcdata,\"7\");window.ezTcfConsent.use_limited_data_to_select_content=_ezAllowed(tcdata,\"11\");window.ezTcfConsent.select_personalized_content=_ezAllowed(tcdata,\"6\");window.ezTcfConsent.understand_audiences=_ezAllowed(tcdata,\"9\");window._emitEzConsentEvent();}\n",
              "function _handleGoogleConsentV2(tcdata){if(!tcdata||!tcdata.purpose||!tcdata.purpose.consents){return;}\n",
              "var googConsentV2={};if(tcdata.purpose.consents[1]){googConsentV2.ad_storage='granted';googConsentV2.analytics_storage='granted';}\n",
              "if(tcdata.purpose.consents[3]&&tcdata.purpose.consents[4]){googConsentV2.ad_personalization='granted';}\n",
              "if(tcdata.purpose.consents[1]&&tcdata.purpose.consents[7]){googConsentV2.ad_user_data='granted';}\n",
              "if(googConsentV2.analytics_storage=='denied'){gtag('set','url_passthrough',true);}\n",
              "gtag('consent','update',googConsentV2);}\n",
              "__tcfapi(\"addEventListener\",2,function(tcdata,success){if(!success||!tcdata){window._emitEzConsentEvent();return;}\n",
              "if(!tcdata.gdprApplies){_setAllEzConsentTrue();window._emitEzConsentEvent();return;}\n",
              "if(tcdata.eventStatus===\"useractioncomplete\"||tcdata.eventStatus===\"tcloaded\"){if(typeof gtag!='undefined'){_handleGoogleConsentV2(tcdata);}\n",
              "_handleConsentDecision(tcdata);if(tcdata.purpose.consents[\"1\"]===true&&tcdata.vendor.consents[\"755\"]!==false){window.ezgconsent=true;(adsbygoogle=window.adsbygoogle||[]).pauseAdRequests=0;_reloadAds();}else{_reloadAds();}\n",
              "if(window.__ezconsent){__ezconsent.setEzoicConsentSettings(ezConsentCategories);}\n",
              "__tcfapi(\"removeEventListener\",2,function(success){return null;},tcdata.listenerId);if(!(tcdata.purpose.consents[\"1\"]===true&&_ezAllowed(tcdata,\"2\")&&_ezAllowed(tcdata,\"3\")&&_ezAllowed(tcdata,\"4\"))){if(typeof __ez==\"object\"&&typeof __ez.bit==\"object\"&&typeof window[\"_ezaq\"]==\"object\"&&typeof window[\"_ezaq\"][\"page_view_id\"]==\"string\"){__ez.bit.AddAndFire(window[\"_ezaq\"][\"page_view_id\"],[new __ezDotData(\"non_personalized_ads\",true),]);}}}});}else{_setAllEzConsentTrue();window._emitEzConsentEvent();}})(window,document);</script></body></html>"
            ]
          },
          "metadata": {},
          "execution_count": 3
        }
      ]
    },
    {
      "cell_type": "code",
      "source": [
        "bs.find_all('li')"
      ],
      "metadata": {
        "colab": {
          "base_uri": "https://localhost:8080/"
        },
        "id": "lmWhHl1BpAQu",
        "outputId": "1bb51783-eb7b-4d52-afb0-0fff33d53bfd"
      },
      "execution_count": 4,
      "outputs": [
        {
          "output_type": "execute_result",
          "data": {
            "text/plain": [
              "[<li><a href=\"kata-bijak/\"><i class=\"fa fa-quote-right\"></i>Kata Bijak</a></li>,\n",
              " <li><a href=\"arti-kata/\"><i class=\"fa fa-book\"></i>Arti Kata</a></li>,\n",
              " <li><a href=\"peribahasa/\"><i class=\"fa fa-comment\"></i>Peribahasa</a></li>,\n",
              " <li><a href=\"games/wordle.html\"><i class=\"fa fa-game\"></i>Wordle</a></li>,\n",
              " <li><a href=\"kata-bijak/kata-cinta.html\"><em class=\"urllight\">Kata Bijak tentang  </em>cinta</a></li>,\n",
              " <li><a href=\"kata-bijak/kata-rindu.html\"><em class=\"urllight\">Kata Bijak tentang  </em>rindu</a></li>,\n",
              " <li><a href=\"kata-bijak/kata-mimpi.html\"><em class=\"urllight\">Kata Bijak tentang  </em>mimpi</a></li>,\n",
              " <li><a href=\"kata-bijak/kata-sendiri.html\"><em class=\"urllight\">Kata Bijak tentang  </em>sendiri</a></li>,\n",
              " <li><a href=\"kata-bijak/kata-sabar.html\"><em class=\"urllight\">Kata Bijak tentang  </em>sabar</a></li>,\n",
              " <li><a href=\"kata-bijak/kata-kesedihan.html\"><em class=\"urllight\">Kata Bijak tentang  </em>kesedihan</a></li>,\n",
              " <li><a href=\"kata-bijak/kata-pernikahan.html\"><em class=\"urllight\">Kata Bijak tentang  </em>pernikahan</a></li>,\n",
              " <li><a href=\"kata-bijak/kata-kemerdekaan.html\"><em class=\"urllight\">Kata Bijak tentang  </em>kemerdekaan</a></li>,\n",
              " <li><a href=\"kata-bijak/kata-kebijaksanaan.html\"><em class=\"urllight\">Kata Bijak tentang  </em>kebijaksanaan</a></li>,\n",
              " <li><a href=\"kata-bijak/kata-beruntung.html\"><em class=\"urllight\">Kata Bijak tentang  </em>beruntung</a></li>,\n",
              " <li><a href=\"kata-bijak/kata-persahabatan.html\"><em class=\"urllight\">Kata Bijak tentang  </em>persahabatan</a></li>,\n",
              " <li class=\"licleared\"><a href=\"https://jagokata.com/kata-kunci/popular.html\"><span>Kata kunci lain</span></a></li>,\n",
              " <li onclick=\"makeactiveimage(0)\"><a href=\"kata-bijak/ali_bin_abi_thalib/3914/aku-sudah-pernah-merasakan-semua-kepahitan-dalam-hidup-dan-yang.html\"><img alt=\"Aku sudah pernah merasakan semua kepahitan dalam hidup dan yang paling pahit ialah berharap kepada manusia.\" data-imageid=\"3914\" data-src=\"https://jagokata.com/images/quote-images//uploads/ali-bin-abi-thalib-aku-sudah-pernah-merasakan-semua-kepahitan-dalam-hidup.jpg\" height=\"164\" src=\"images/quote-image-loading.jpg\" width=\"263\"/></a><i class=\"fa fa-expand\"></i></li>,\n",
              " <li onclick=\"makeactiveimage(1)\"><a href=\"kata-bijak/ali_bin_abi_thalib/7502/janganlah-engkau-mengucapkan-perkataan-yang-engkau-sendiri-tak.html\"><img alt=\"Janganlah engkau mengucapkan perkataan yang engkau sendiri tak suka mendengarnya jika orang lain mengucapkannya kepadamu.\" data-imageid=\"7502\" data-src=\"https://jagokata.com/images/quote-images/a/ali-bin-abi-thalib-janganlah-engkau-mengucapkan-perkataan-yang-engkau.jpg\" height=\"164\" src=\"images/quote-image-loading.jpg\" width=\"263\"/></a><i class=\"fa fa-expand\"></i></li>,\n",
              " <li onclick=\"makeactiveimage(2)\"><a href=\"kata-bijak/ali_bin_abi_thalib/5363/kesabaran-itu-ada-dua-macam-sabar-atas-sesuatu-yang-tidak-kau.html\"><img alt=\"Kesabaran itu ada dua macam: sabar atas sesuatu yang tidak kau ingin dan sabar menahan diri dari sesuatu yang kau ingini.\" data-imageid=\"5363\" data-src=\"https://jagokata.com/images/quote-images/a/ali-bin-abi-thalib-kesabaran-itu-ada-dua-macam-sabar-atas-sesuatu.jpg\" height=\"164\" src=\"images/quote-image-loading.jpg\" width=\"263\"/></a><i class=\"fa fa-expand\"></i></li>,\n",
              " <li onclick=\"makeactiveimage(3)\"><a href=\"kata-bijak/buya_hamka/11569/cinta-itu-perang-yakni-perang-yang-hebat-dalam-rohani-manusia.html\"><img alt=\"Cinta itu perang, yakni perang yang hebat dalam rohani manusia. Jika ia menang, akan didapati orang yang tulus ikhlas, luas pikiran, sabar dan tenang hati. Jika ia kalah, akan didapati orang yang putus asa, sesat, lemah hati, kecil perasaan dan bahkan kadang-kadang hilang kepercayaan pada diri sendi\" data-imageid=\"11569\" data-src=\"https://jagokata.com/images/quote-images/b/buya-hamka-cinta-itu-perang-yakni-perang-yang-hebat-dalam.jpg\" height=\"164\" src=\"images/quote-image-loading.jpg\" width=\"263\"/></a><i class=\"fa fa-expand\"></i></li>,\n",
              " <li onclick=\"makeactiveimage(4)\"><a href=\"kata-bijak/tere_liye/3532/cinta-selalu-saja-misterius-jangan-diburuburu-atau-kau-akan.html\"><img alt=\"Cinta selalu saja misterius. Jangan diburu-buru, atau kau akan merusak jalan ceritanya sendiri.\" data-imageid=\"3532\" data-src=\"https://jagokata.com/images/quote-images/t/tere-liye-cinta-selalu-saja-misterius-jangan-diburuburu.jpg\" height=\"164\" src=\"images/quote-image-loading.jpg\" width=\"263\"/></a><i class=\"fa fa-expand\"></i></li>,\n",
              " <li onclick=\"makeactiveimage(5)\"><a href=\"kata-bijak/ali_bin_abi_thalib/5336/jangan-menjelaskan-tentang-dirimu-kepada-siapapun-karena-yang.html\"><img alt=\"Jangan menjelaskan tentang dirimu kepada siapapun, karena yang menyukaimu tidak butuh itu. Dan yang membencimu tidak percaya itu.\" data-imageid=\"5336\" data-src=\"https://jagokata.com/images/quote-images/a/ali-bin-abi-thalib-jangan-menjelaskan-tentang-dirimu-kepada-siapapun.jpg\" height=\"164\" src=\"images/quote-image-loading.jpg\" width=\"263\"/></a><i class=\"fa fa-expand\"></i></li>,\n",
              " <li onclick=\"makeactiveimage(6)\"><a href=\"kata-bijak/albert_einstein/9984/orang-bodoh-seringkali-beralasan-sabar-terhadap-segala-sesuatu.html\"><img alt=\"Orang bodoh seringkali beralasan sabar terhadap segala sesuatu yang sebenarnya dia mengalah dengan keadaan tanpa pernah berusaha.\" data-imageid=\"9984\" data-src=\"https://jagokata.com/images/quote-images/a/albert-einstein-orang-bodoh-seringkali-beralasan-sabar-terhadap.jpg\" height=\"164\" src=\"images/quote-image-loading.jpg\" width=\"263\"/></a><i class=\"fa fa-expand\"></i></li>,\n",
              " <li onclick=\"makeactiveimage(7)\"><a href=\"kata-bijak/mahatma_gandhi/252/jadilah-kamu-manusia-yang-pada-kelahiranmu-semua-orang-tertawa.html\"><img alt=\"Jadilah kamu manusia yang pada kelahiranmu semua orang tertawa bahagia, tetapi hanya kamu sendiri yang menangis dan pada kematianmu semua orang menangis sedih, tetapi hanya kamu sendiri yang tersenyum.\" data-imageid=\"252\" data-src=\"https://jagokata.com/images/quote-images//uploads/mahatma-gandhi-jadilah-kamu-manusia-yang-pada-kelahiranmu-semua-orang.jpg\" height=\"164\" src=\"images/quote-image-loading.jpg\" width=\"263\"/></a><i class=\"fa fa-expand\"></i></li>,\n",
              " <li><a href=\"kata-bijak/dari-nelson_mandela.html\">\n",
              " <img alt=\"Pernyataan oleh Nelson Mandela\" data-src=\"https://jagokata.com/images/fotos/Nelson_Mandela.jpg\" height=\"53\" src=\"images/onbekend.jpg\" width=\"40\"/>\n",
              " <span>Nelson Mandela<br/><em>(1918-2013)</em></span>\n",
              " </a></li>,\n",
              " <li><a href=\"kata-bijak/dari-pramoedya_ananta_toer.html\">\n",
              " <img alt=\"Pernyataan oleh Pramoedya Ananta Toer\" data-src=\"https://jagokata.com/images/fotos/Pramoedya_Ananta_Toer.jpg\" height=\"53\" src=\"images/onbekend.jpg\" width=\"40\"/>\n",
              " <span>Pramoedya Ananta Toer<br/><em>(1925-2006)</em></span>\n",
              " </a></li>,\n",
              " <li><a href=\"kata-bijak/dari-soekarno.html\">\n",
              " <img alt=\"Pernyataan oleh Soekarno\" data-src=\"https://jagokata.com/images/fotos/Soekarno.jpg\" height=\"53\" src=\"images/onbekend.jpg\" width=\"40\"/>\n",
              " <span>Soekarno<br/><em>(1901-1970)</em></span>\n",
              " </a></li>,\n",
              " <li><a href=\"kata-bijak/dari-ali_bin_abi_thalib.html\">\n",
              " <img alt=\"Pernyataan oleh Ali bin Abi Thalib\" data-src=\"https://jagokata.com/images/fotos/Ali_bin_Abi_Thalib.jpg\" height=\"53\" src=\"images/onbekend.jpg\" width=\"40\"/>\n",
              " <span>Ali bin Abi Thalib<br/><em>(599-661)</em></span>\n",
              " </a></li>,\n",
              " <li><a href=\"kata-bijak/dari-tere_liye.html\">\n",
              " <img alt=\"Pernyataan oleh Tere Liye\" data-src=\"https://jagokata.com/images/fotos/Tere_Liye.jpg\" height=\"53\" src=\"images/onbekend.jpg\" width=\"40\"/>\n",
              " <span>Tere Liye<br/><em>(1962-)</em></span>\n",
              " </a></li>,\n",
              " <li><a href=\"kata-bijak/dari-albert_einstein.html\">\n",
              " <img alt=\"Pernyataan oleh Albert Einstein\" data-src=\"https://jagokata.com/images/fotos/Albert_Einstein.jpg\" height=\"53\" src=\"images/onbekend.jpg\" width=\"40\"/>\n",
              " <span>Albert Einstein<br/><em>(1879-1955)</em></span>\n",
              " </a></li>,\n",
              " <li><a href=\"kata-bijak/dari-mario_teguh.html\">\n",
              " <img alt=\"Pernyataan oleh Mario Teguh\" data-src=\"https://jagokata.com/images/fotos/Mario_Teguh.jpg\" height=\"53\" src=\"images/onbekend.jpg\" width=\"40\"/>\n",
              " <span>Mario Teguh<br/><em>(1956- )</em></span>\n",
              " </a></li>,\n",
              " <li><a href=\"kata-bijak/dari-buya_hamka.html\">\n",
              " <img alt=\"Pernyataan oleh Buya Hamka\" data-src=\"https://jagokata.com/images/fotos/Buya_Hamka.jpg\" height=\"53\" src=\"images/onbekend.jpg\" width=\"40\"/>\n",
              " <span>Buya Hamka<br/><em>(1908-1981)</em></span>\n",
              " </a></li>,\n",
              " <li class=\"licleared\"><a href=\"https://jagokata.com/tokoh/semua-tokoh.html\"><span>Semua tokoh </span></a></li>,\n",
              " <li><a href=\"https://jagokata.com/tokoh/popular.html\"><span>Tokoh popular</span></a></li>,\n",
              " <li><a href=\"tokoh/negara-amerika_serikat.html \"><img alt=\"Flag\" class=\"flag24\" src=\"images/flags32x32/us.png\"/>Amerika Serikat</a></li>,\n",
              " <li><a href=\"tokoh/negara-indonesia.html \"><img alt=\"Flag\" class=\"flag24\" src=\"images/flags32x32/id.png\"/>Indonesia</a></li>,\n",
              " <li><a href=\"tokoh/negara-britania_raya.html \"><img alt=\"Flag\" class=\"flag24\" src=\"images/flags32x32/gb.png\"/>Britania Raya</a></li>,\n",
              " <li><a href=\"tokoh/negara-perancis.html \"><img alt=\"Flag\" class=\"flag24\" src=\"images/flags32x32/fr.png\"/>Perancis</a></li>,\n",
              " <li><a href=\"tokoh/negara-jerman.html \"><img alt=\"Flag\" class=\"flag24\" src=\"images/flags32x32/de.png\"/>Jerman</a></li>,\n",
              " <li><a href=\"tokoh/negara-austria.html \"><img alt=\"Flag\" class=\"flag24\" src=\"images/flags32x32/at.png\"/>Austria</a></li>,\n",
              " <li><a href=\"tokoh/negara-kanada.html \"><img alt=\"Flag\" class=\"flag24\" src=\"images/flags32x32/ca.png\"/>Kanada</a></li>,\n",
              " <li><a href=\"tokoh/negara-italia.html \"><img alt=\"Flag\" class=\"flag24\" src=\"images/flags32x32/it.png\"/>Italia</a></li>,\n",
              " <li><a href=\"tokoh/negara-irlandia.html \"><img alt=\"Flag\" class=\"flag24\" src=\"images/flags32x32/ie.png\"/>Irlandia</a></li>,\n",
              " <li><a href=\"tokoh/negara-yunani.html \"><img alt=\"Flag\" class=\"flag24\" src=\"images/flags32x32/gr.png\"/>Yunani</a></li>,\n",
              " <li><a href=\"tokoh/negara-india.html \"><img alt=\"Flag\" class=\"flag24\" src=\"images/flags32x32/in.png\"/>India</a></li>,\n",
              " <li><a href=\"tokoh/negara-spanyol.html \"><img alt=\"Flag\" class=\"flag24\" src=\"images/flags32x32/es.png\"/>Spanyol</a></li>,\n",
              " <li><h3>Lahir:</h3></li>,\n",
              " <li><a href=\"kata-bijak/dari-mahatma_gandhi.html\">Mahatma Gandhi<br/><em>(2 Oktober 1869 - 30 Januari 1948)</em></a></li>,\n",
              " <li><a href=\"kata-bijak/dari-donna_karan.html\">Donna Karan<br/><em>(2 Oktober 1948 -   )</em></a></li>,\n",
              " <li><a href=\"kata-bijak/dari-george_santayana.html\">George Santayana<br/><em>(2 Oktober 1863 - 16 September 1952)</em></a></li>,\n",
              " <li><a href=\"kata-bijak/dari-groucho_marx.html\">Groucho Marx<br/><em>(2 Oktober 1890 - 19 augustus 1977)</em></a></li>,\n",
              " <li><a href=\"kata-bijak/dari-graham_greene.html\">Graham Greene<br/><em>(2 Oktober 1904 - 3 April 1991)</em></a></li>,\n",
              " <li><a href=\"kata-bijak/dari-wallace_stevens.html\">Wallace Stevens<br/><em>(2 Oktober 1879 - 2 augustus 1955)</em></a></li>,\n",
              " <li><h3>Meninggal:</h3></li>,\n",
              " <li><a href=\"kata-bijak/dari-tom_petty.html\">Tom Petty<br/><em>(20 Oktober 1950 - 2 Oktober 2017)</em></a> </li>,\n",
              " <li><a href=\"kata-bijak/dari-william_ellery_channing.html\">William Ellery Channing<br/><em>(7 April 1780 - 2 Oktober 1842)</em></a> </li>,\n",
              " <li><a href=\"kata-bijak/dari-ernest_renan.html\">Ernest Renan<br/><em>(28 Februari 1823 - 2 Oktober 1892)</em></a> </li>,\n",
              " <li><a href=\"kata-bijak/dari-marcel_duchamp.html\">Marcel Duchamp<br/><em>(28 Juli 1887 - 2 Oktober 1968)</em></a> </li>,\n",
              " <li><a href=\"kata-bijak/dari-norman_o._brown.html\">Norman O. Brown<br/><em>(25 September 1913 - 2 Oktober 2002)</em></a> </li>,\n",
              " <li><a href=\"https://jagokata.com/arti-kata/anak.html\"><em class=\"urllight\">Arti kata</em> anak</a></li>,\n",
              " <li><a href=\"https://jagokata.com/arti-kata/batu.html\"><em class=\"urllight\">Arti kata</em> batu</a></li>,\n",
              " <li><a href=\"https://jagokata.com/arti-kata/ilmu.html\"><em class=\"urllight\">Arti kata</em> ilmu</a></li>,\n",
              " <li><a href=\"https://jagokata.com/arti-kata/makan.html\"><em class=\"urllight\">Arti kata</em> makan</a></li>,\n",
              " <li><a href=\"https://jagokata.com/arti-kata/uang.html\"><em class=\"urllight\">Arti kata</em> uang</a></li>,\n",
              " <li><a href=\"https://jagokata.com/arti-kata/angin.html\"><em class=\"urllight\">Arti kata</em> angin</a></li>,\n",
              " <li><a href=\"https://jagokata.com/arti-kata/minyak.html\"><em class=\"urllight\">Arti kata</em> minyak</a></li>,\n",
              " <li><a href=\"https://jagokata.com/arti-kata/jalan.html\"><em class=\"urllight\">Arti kata</em> jalan</a></li>,\n",
              " <li><a href=\"https://jagokata.com/arti-kata/ikan.html\"><em class=\"urllight\">Arti kata</em> ikan</a></li>,\n",
              " <li><a href=\"https://jagokata.com/arti-kata/mata.html\"><em class=\"urllight\">Arti kata</em> mata</a></li>,\n",
              " <li><a href=\"https://jagokata.com/arti-kata/perlindungan.html\"><em class=\"urllight\">Arti kata</em> perlindungan</a></li>,\n",
              " <li><a href=\"https://jagokata.com/arti-kata/visual.html\"><em class=\"urllight\">Arti kata</em> visual</a></li>,\n",
              " <li><a href=\"https://jagokata.com/arti-kata/serba-.html\"><em class=\"urllight\">Arti kata</em> serba-</a></li>,\n",
              " <li><a href=\"https://jagokata.com/arti-kata/suplesi.html\"><em class=\"urllight\">Arti kata</em> suplesi</a></li>,\n",
              " <li><a href=\"https://jagokata.com/arti-kata/gedik.html\"><em class=\"urllight\">Arti kata</em> gedik</a></li>,\n",
              " <li><a href=\"https://jagokata.com/arti-kata/vulgar.html\"><em class=\"urllight\">Arti kata</em> vulgar</a></li>,\n",
              " <li><a href=\"https://jagokata.com/arti-kata/lazim.html\"><em class=\"urllight\">Arti kata</em> lazim</a></li>,\n",
              " <li><a href=\"https://jagokata.com/arti-kata/evokasi.html\"><em class=\"urllight\">Arti kata</em> evokasi</a></li>,\n",
              " <li><a href=\"https://jagokata.com/arti-kata/seyogianya.html\"><em class=\"urllight\">Arti kata</em> seyogianya</a></li>,\n",
              " <li><a href=\"https://jagokata.com/arti-kata/karitatif.html\"><em class=\"urllight\">Arti kata</em> karitatif</a></li>,\n",
              " <li><a href=\"https://jagokata.com/peribahasa/mulut.html\" title=\"Peribahasa pakai mulut\"><em class=\"urllight\">Peribahasa tentang</em> mulut</a></li>,\n",
              " <li><a href=\"https://jagokata.com/peribahasa/padi.html\" title=\"Peribahasa pakai padi\"><em class=\"urllight\">Peribahasa tentang</em> padi</a></li>,\n",
              " <li><a href=\"https://jagokata.com/peribahasa/tangan.html\" title=\"Peribahasa pakai tangan\"><em class=\"urllight\">Peribahasa tentang</em> tangan</a></li>,\n",
              " <li><a href=\"https://jagokata.com/peribahasa/ikan.html\" title=\"Peribahasa pakai ikan\"><em class=\"urllight\">Peribahasa tentang</em> ikan</a></li>,\n",
              " <li><a href=\"https://jagokata.com/peribahasa/hidung.html\" title=\"Peribahasa pakai hidung\"><em class=\"urllight\">Peribahasa tentang</em> hidung</a></li>,\n",
              " <li><a href=\"https://jagokata.com/peribahasa/hitam.html\" title=\"Peribahasa pakai hitam\"><em class=\"urllight\">Peribahasa tentang</em> hitam</a></li>,\n",
              " <li><a href=\"https://jagokata.com/peribahasa/hujan.html\" title=\"Peribahasa pakai hujan\"><em class=\"urllight\">Peribahasa tentang</em> hujan</a></li>,\n",
              " <li><a href=\"https://jagokata.com/peribahasa/hidup.html\" title=\"Peribahasa pakai hidup\"><em class=\"urllight\">Peribahasa tentang</em> hidup</a></li>,\n",
              " <li><a href=\"https://jagokata.com/peribahasa/anak.html\" title=\"Peribahasa pakai anak\"><em class=\"urllight\">Peribahasa tentang</em> anak</a></li>,\n",
              " <li><a href=\"https://jagokata.com/peribahasa/gula.html\" title=\"Peribahasa gula\"><em class=\"urllight\">Peribahasa pakai</em> gula</a></li>,\n",
              " <li><a href=\"https://jagokata.com/peribahasa/rumpun.html\" title=\"Peribahasa rumpun\"><em class=\"urllight\">Peribahasa pakai</em> rumpun</a></li>,\n",
              " <li><a href=\"https://jagokata.com/peribahasa/dekat.html\" title=\"Peribahasa dekat\"><em class=\"urllight\">Peribahasa pakai</em> dekat</a></li>,\n",
              " <li><a href=\"https://jagokata.com/peribahasa/dagang.html\" title=\"Peribahasa dagang\"><em class=\"urllight\">Peribahasa pakai</em> dagang</a></li>,\n",
              " <li><a href=\"https://jagokata.com/peribahasa/ilalang.html\" title=\"Peribahasa ilalang\"><em class=\"urllight\">Peribahasa pakai</em> ilalang</a></li>,\n",
              " <li><a href=\"https://jagokata.com/peribahasa/tunggu.html\" title=\"Peribahasa tunggu\"><em class=\"urllight\">Peribahasa pakai</em> tunggu</a></li>,\n",
              " <li><a href=\"https://jagokata.com/peribahasa/sawah.html\" title=\"Peribahasa sawah\"><em class=\"urllight\">Peribahasa pakai</em> sawah</a></li>,\n",
              " <li><a href=\"https://jagokata.com/peribahasa/ketungkul.html\" title=\"Peribahasa ketungkul\"><em class=\"urllight\">Peribahasa pakai</em> ketungkul</a></li>,\n",
              " <li><a href=\"https://jagokata.com/peribahasa/perut.html\" title=\"Peribahasa perut\"><em class=\"urllight\">Peribahasa pakai</em> perut</a></li>,\n",
              " <li><a href=\"https://jagokata.com/peribahasa/itik.html\" title=\"Peribahasa itik\"><em class=\"urllight\">Peribahasa pakai</em> itik</a></li>,\n",
              " <li><h3>Kata Bijak</h3></li>,\n",
              " <li><a href=\"kata-bijak/popular.html\">Top 100</a></li>,\n",
              " <li><a href=\"kata-bijak/acak.html\">Acak</a></li>,\n",
              " <li><a href=\"tokoh/semua-tokoh.html\">Tokoh</a></li>,\n",
              " <li><a href=\"kata-kunci/popular.html\">Kata kunci</a></li>,\n",
              " <li><h3>Arti Kata</h3></li>,\n",
              " <li><a href=\"arti-kata/daftar-kata-a.html\">Daftar Kata</a></li>,\n",
              " <li><a href=\"arti-kata/arti-kata-acak.html\">Acak</a></li>,\n",
              " <li><h3>Peribahasa</h3></li>,\n",
              " <li><a href=\"peribahasa/daftar-kata-a.html\">Daftar Kata</a></li>,\n",
              " <li><a href=\"peribahasa/peribahasa-acak.html\">Acak</a></li>,\n",
              " <li><h3>Games</h3></li>,\n",
              " <li><a href=\"games/wordle.html\">Wordle</a></li>,\n",
              " <li><a href=\"privasi.html\">Privasi</a></li>,\n",
              " <li><a href=\"contact.html\" rel=\"nofollow\">Kontak</a></li>]"
            ]
          },
          "metadata": {},
          "execution_count": 4
        }
      ]
    },
    {
      "cell_type": "code",
      "source": [
        "bs.find_all('img')"
      ],
      "metadata": {
        "colab": {
          "base_uri": "https://localhost:8080/"
        },
        "id": "C0uXvvUXpTb9",
        "outputId": "95a9031c-2e60-45fc-d99a-7d1a975a878f"
      },
      "execution_count": 5,
      "outputs": [
        {
          "output_type": "execute_result",
          "data": {
            "text/plain": [
              "[<img alt=\"jagokata.com kata bijak, kata mutiara, kutipan dan ucapan terkenal \" height=\"40\" src=\"https://jagokata.com/images/logo-kata2.png\" width=\"180\"/>,\n",
              " <img alt=\"toggle zoekform\" src=\"images/ic_action_search.png\"/>,\n",
              " <img alt=\"Aku sudah pernah merasakan semua kepahitan dalam hidup dan yang paling pahit ialah berharap kepada manusia.\" data-imageid=\"3914\" data-src=\"https://jagokata.com/images/quote-images//uploads/ali-bin-abi-thalib-aku-sudah-pernah-merasakan-semua-kepahitan-dalam-hidup.jpg\" height=\"164\" src=\"images/quote-image-loading.jpg\" width=\"263\"/>,\n",
              " <img alt=\"Janganlah engkau mengucapkan perkataan yang engkau sendiri tak suka mendengarnya jika orang lain mengucapkannya kepadamu.\" data-imageid=\"7502\" data-src=\"https://jagokata.com/images/quote-images/a/ali-bin-abi-thalib-janganlah-engkau-mengucapkan-perkataan-yang-engkau.jpg\" height=\"164\" src=\"images/quote-image-loading.jpg\" width=\"263\"/>,\n",
              " <img alt=\"Kesabaran itu ada dua macam: sabar atas sesuatu yang tidak kau ingin dan sabar menahan diri dari sesuatu yang kau ingini.\" data-imageid=\"5363\" data-src=\"https://jagokata.com/images/quote-images/a/ali-bin-abi-thalib-kesabaran-itu-ada-dua-macam-sabar-atas-sesuatu.jpg\" height=\"164\" src=\"images/quote-image-loading.jpg\" width=\"263\"/>,\n",
              " <img alt=\"Cinta itu perang, yakni perang yang hebat dalam rohani manusia. Jika ia menang, akan didapati orang yang tulus ikhlas, luas pikiran, sabar dan tenang hati. Jika ia kalah, akan didapati orang yang putus asa, sesat, lemah hati, kecil perasaan dan bahkan kadang-kadang hilang kepercayaan pada diri sendi\" data-imageid=\"11569\" data-src=\"https://jagokata.com/images/quote-images/b/buya-hamka-cinta-itu-perang-yakni-perang-yang-hebat-dalam.jpg\" height=\"164\" src=\"images/quote-image-loading.jpg\" width=\"263\"/>,\n",
              " <img alt=\"Cinta selalu saja misterius. Jangan diburu-buru, atau kau akan merusak jalan ceritanya sendiri.\" data-imageid=\"3532\" data-src=\"https://jagokata.com/images/quote-images/t/tere-liye-cinta-selalu-saja-misterius-jangan-diburuburu.jpg\" height=\"164\" src=\"images/quote-image-loading.jpg\" width=\"263\"/>,\n",
              " <img alt=\"Jangan menjelaskan tentang dirimu kepada siapapun, karena yang menyukaimu tidak butuh itu. Dan yang membencimu tidak percaya itu.\" data-imageid=\"5336\" data-src=\"https://jagokata.com/images/quote-images/a/ali-bin-abi-thalib-jangan-menjelaskan-tentang-dirimu-kepada-siapapun.jpg\" height=\"164\" src=\"images/quote-image-loading.jpg\" width=\"263\"/>,\n",
              " <img alt=\"Orang bodoh seringkali beralasan sabar terhadap segala sesuatu yang sebenarnya dia mengalah dengan keadaan tanpa pernah berusaha.\" data-imageid=\"9984\" data-src=\"https://jagokata.com/images/quote-images/a/albert-einstein-orang-bodoh-seringkali-beralasan-sabar-terhadap.jpg\" height=\"164\" src=\"images/quote-image-loading.jpg\" width=\"263\"/>,\n",
              " <img alt=\"Jadilah kamu manusia yang pada kelahiranmu semua orang tertawa bahagia, tetapi hanya kamu sendiri yang menangis dan pada kematianmu semua orang menangis sedih, tetapi hanya kamu sendiri yang tersenyum.\" data-imageid=\"252\" data-src=\"https://jagokata.com/images/quote-images//uploads/mahatma-gandhi-jadilah-kamu-manusia-yang-pada-kelahiranmu-semua-orang.jpg\" height=\"164\" src=\"images/quote-image-loading.jpg\" width=\"263\"/>,\n",
              " <img alt=\"Pernyataan oleh Nelson Mandela\" data-src=\"https://jagokata.com/images/fotos/Nelson_Mandela.jpg\" height=\"53\" src=\"images/onbekend.jpg\" width=\"40\"/>,\n",
              " <img alt=\"Pernyataan oleh Pramoedya Ananta Toer\" data-src=\"https://jagokata.com/images/fotos/Pramoedya_Ananta_Toer.jpg\" height=\"53\" src=\"images/onbekend.jpg\" width=\"40\"/>,\n",
              " <img alt=\"Pernyataan oleh Soekarno\" data-src=\"https://jagokata.com/images/fotos/Soekarno.jpg\" height=\"53\" src=\"images/onbekend.jpg\" width=\"40\"/>,\n",
              " <img alt=\"Pernyataan oleh Ali bin Abi Thalib\" data-src=\"https://jagokata.com/images/fotos/Ali_bin_Abi_Thalib.jpg\" height=\"53\" src=\"images/onbekend.jpg\" width=\"40\"/>,\n",
              " <img alt=\"Pernyataan oleh Tere Liye\" data-src=\"https://jagokata.com/images/fotos/Tere_Liye.jpg\" height=\"53\" src=\"images/onbekend.jpg\" width=\"40\"/>,\n",
              " <img alt=\"Pernyataan oleh Albert Einstein\" data-src=\"https://jagokata.com/images/fotos/Albert_Einstein.jpg\" height=\"53\" src=\"images/onbekend.jpg\" width=\"40\"/>,\n",
              " <img alt=\"Pernyataan oleh Mario Teguh\" data-src=\"https://jagokata.com/images/fotos/Mario_Teguh.jpg\" height=\"53\" src=\"images/onbekend.jpg\" width=\"40\"/>,\n",
              " <img alt=\"Pernyataan oleh Buya Hamka\" data-src=\"https://jagokata.com/images/fotos/Buya_Hamka.jpg\" height=\"53\" src=\"images/onbekend.jpg\" width=\"40\"/>,\n",
              " <img alt=\"Flag\" class=\"flag24\" src=\"images/flags32x32/us.png\"/>,\n",
              " <img alt=\"Flag\" class=\"flag24\" src=\"images/flags32x32/id.png\"/>,\n",
              " <img alt=\"Flag\" class=\"flag24\" src=\"images/flags32x32/gb.png\"/>,\n",
              " <img alt=\"Flag\" class=\"flag24\" src=\"images/flags32x32/fr.png\"/>,\n",
              " <img alt=\"Flag\" class=\"flag24\" src=\"images/flags32x32/de.png\"/>,\n",
              " <img alt=\"Flag\" class=\"flag24\" src=\"images/flags32x32/at.png\"/>,\n",
              " <img alt=\"Flag\" class=\"flag24\" src=\"images/flags32x32/ca.png\"/>,\n",
              " <img alt=\"Flag\" class=\"flag24\" src=\"images/flags32x32/it.png\"/>,\n",
              " <img alt=\"Flag\" class=\"flag24\" src=\"images/flags32x32/ie.png\"/>,\n",
              " <img alt=\"Flag\" class=\"flag24\" src=\"images/flags32x32/gr.png\"/>,\n",
              " <img alt=\"Flag\" class=\"flag24\" src=\"images/flags32x32/in.png\"/>,\n",
              " <img alt=\"Flag\" class=\"flag24\" src=\"images/flags32x32/es.png\"/>,\n",
              " <img alt=\"JagoKata\" data-src=\"images/jagokata-footer-logo.png\" height=\"40\" width=\"170\"/>]"
            ]
          },
          "metadata": {},
          "execution_count": 5
        }
      ]
    },
    {
      "cell_type": "code",
      "source": [
        "bs.find_all('img', {'src':\"images/quote-image-loading.jpg\"})"
      ],
      "metadata": {
        "colab": {
          "base_uri": "https://localhost:8080/"
        },
        "id": "gwYIY9QCucFg",
        "outputId": "db3e7b37-3adb-4028-ba1a-195f34a61825"
      },
      "execution_count": 6,
      "outputs": [
        {
          "output_type": "execute_result",
          "data": {
            "text/plain": [
              "[<img alt=\"Aku sudah pernah merasakan semua kepahitan dalam hidup dan yang paling pahit ialah berharap kepada manusia.\" data-imageid=\"3914\" data-src=\"https://jagokata.com/images/quote-images//uploads/ali-bin-abi-thalib-aku-sudah-pernah-merasakan-semua-kepahitan-dalam-hidup.jpg\" height=\"164\" src=\"images/quote-image-loading.jpg\" width=\"263\"/>,\n",
              " <img alt=\"Janganlah engkau mengucapkan perkataan yang engkau sendiri tak suka mendengarnya jika orang lain mengucapkannya kepadamu.\" data-imageid=\"7502\" data-src=\"https://jagokata.com/images/quote-images/a/ali-bin-abi-thalib-janganlah-engkau-mengucapkan-perkataan-yang-engkau.jpg\" height=\"164\" src=\"images/quote-image-loading.jpg\" width=\"263\"/>,\n",
              " <img alt=\"Kesabaran itu ada dua macam: sabar atas sesuatu yang tidak kau ingin dan sabar menahan diri dari sesuatu yang kau ingini.\" data-imageid=\"5363\" data-src=\"https://jagokata.com/images/quote-images/a/ali-bin-abi-thalib-kesabaran-itu-ada-dua-macam-sabar-atas-sesuatu.jpg\" height=\"164\" src=\"images/quote-image-loading.jpg\" width=\"263\"/>,\n",
              " <img alt=\"Cinta itu perang, yakni perang yang hebat dalam rohani manusia. Jika ia menang, akan didapati orang yang tulus ikhlas, luas pikiran, sabar dan tenang hati. Jika ia kalah, akan didapati orang yang putus asa, sesat, lemah hati, kecil perasaan dan bahkan kadang-kadang hilang kepercayaan pada diri sendi\" data-imageid=\"11569\" data-src=\"https://jagokata.com/images/quote-images/b/buya-hamka-cinta-itu-perang-yakni-perang-yang-hebat-dalam.jpg\" height=\"164\" src=\"images/quote-image-loading.jpg\" width=\"263\"/>,\n",
              " <img alt=\"Cinta selalu saja misterius. Jangan diburu-buru, atau kau akan merusak jalan ceritanya sendiri.\" data-imageid=\"3532\" data-src=\"https://jagokata.com/images/quote-images/t/tere-liye-cinta-selalu-saja-misterius-jangan-diburuburu.jpg\" height=\"164\" src=\"images/quote-image-loading.jpg\" width=\"263\"/>,\n",
              " <img alt=\"Jangan menjelaskan tentang dirimu kepada siapapun, karena yang menyukaimu tidak butuh itu. Dan yang membencimu tidak percaya itu.\" data-imageid=\"5336\" data-src=\"https://jagokata.com/images/quote-images/a/ali-bin-abi-thalib-jangan-menjelaskan-tentang-dirimu-kepada-siapapun.jpg\" height=\"164\" src=\"images/quote-image-loading.jpg\" width=\"263\"/>,\n",
              " <img alt=\"Orang bodoh seringkali beralasan sabar terhadap segala sesuatu yang sebenarnya dia mengalah dengan keadaan tanpa pernah berusaha.\" data-imageid=\"9984\" data-src=\"https://jagokata.com/images/quote-images/a/albert-einstein-orang-bodoh-seringkali-beralasan-sabar-terhadap.jpg\" height=\"164\" src=\"images/quote-image-loading.jpg\" width=\"263\"/>,\n",
              " <img alt=\"Jadilah kamu manusia yang pada kelahiranmu semua orang tertawa bahagia, tetapi hanya kamu sendiri yang menangis dan pada kematianmu semua orang menangis sedih, tetapi hanya kamu sendiri yang tersenyum.\" data-imageid=\"252\" data-src=\"https://jagokata.com/images/quote-images//uploads/mahatma-gandhi-jadilah-kamu-manusia-yang-pada-kelahiranmu-semua-orang.jpg\" height=\"164\" src=\"images/quote-image-loading.jpg\" width=\"263\"/>]"
            ]
          },
          "metadata": {},
          "execution_count": 6
        }
      ]
    },
    {
      "cell_type": "code",
      "source": [
        "list_items = bs.find_all('li')"
      ],
      "metadata": {
        "id": "98afq_dNytT5"
      },
      "execution_count": 16,
      "outputs": []
    },
    {
      "cell_type": "code",
      "source": [
        "for item in list_items:\n",
        "  img = item.find('img')\n",
        "  if img:\n",
        "    quote = img.get('alt', 'Tidak ada quotes')\n",
        "    print(f\"Quote: {quote}\")\n",
        "    print('-' * 50)"
      ],
      "metadata": {
        "colab": {
          "base_uri": "https://localhost:8080/"
        },
        "id": "H_pb_G8Pwpqx",
        "outputId": "33958739-0baa-4e5e-db3f-75e1d67ce828"
      },
      "execution_count": 23,
      "outputs": [
        {
          "output_type": "stream",
          "name": "stdout",
          "text": [
            "Quote: Aku sudah pernah merasakan semua kepahitan dalam hidup dan yang paling pahit ialah berharap kepada manusia.\n",
            "--------------------------------------------------\n",
            "Quote: Janganlah engkau mengucapkan perkataan yang engkau sendiri tak suka mendengarnya jika orang lain mengucapkannya kepadamu.\n",
            "--------------------------------------------------\n",
            "Quote: Kesabaran itu ada dua macam: sabar atas sesuatu yang tidak kau ingin dan sabar menahan diri dari sesuatu yang kau ingini.\n",
            "--------------------------------------------------\n",
            "Quote: Cinta itu perang, yakni perang yang hebat dalam rohani manusia. Jika ia menang, akan didapati orang yang tulus ikhlas, luas pikiran, sabar dan tenang hati. Jika ia kalah, akan didapati orang yang putus asa, sesat, lemah hati, kecil perasaan dan bahkan kadang-kadang hilang kepercayaan pada diri sendi\n",
            "--------------------------------------------------\n",
            "Quote: Cinta selalu saja misterius. Jangan diburu-buru, atau kau akan merusak jalan ceritanya sendiri.\n",
            "--------------------------------------------------\n",
            "Quote: Jangan menjelaskan tentang dirimu kepada siapapun, karena yang menyukaimu tidak butuh itu. Dan yang membencimu tidak percaya itu.\n",
            "--------------------------------------------------\n",
            "Quote: Orang bodoh seringkali beralasan sabar terhadap segala sesuatu yang sebenarnya dia mengalah dengan keadaan tanpa pernah berusaha.\n",
            "--------------------------------------------------\n",
            "Quote: Jadilah kamu manusia yang pada kelahiranmu semua orang tertawa bahagia, tetapi hanya kamu sendiri yang menangis dan pada kematianmu semua orang menangis sedih, tetapi hanya kamu sendiri yang tersenyum.\n",
            "--------------------------------------------------\n",
            "Quote: Pernyataan oleh Nelson Mandela\n",
            "--------------------------------------------------\n",
            "Quote: Pernyataan oleh Pramoedya Ananta Toer\n",
            "--------------------------------------------------\n",
            "Quote: Pernyataan oleh Soekarno\n",
            "--------------------------------------------------\n",
            "Quote: Pernyataan oleh Ali bin Abi Thalib\n",
            "--------------------------------------------------\n",
            "Quote: Pernyataan oleh Tere Liye\n",
            "--------------------------------------------------\n",
            "Quote: Pernyataan oleh Albert Einstein\n",
            "--------------------------------------------------\n",
            "Quote: Pernyataan oleh Mario Teguh\n",
            "--------------------------------------------------\n",
            "Quote: Pernyataan oleh Buya Hamka\n",
            "--------------------------------------------------\n",
            "Quote: Flag\n",
            "--------------------------------------------------\n",
            "Quote: Flag\n",
            "--------------------------------------------------\n",
            "Quote: Flag\n",
            "--------------------------------------------------\n",
            "Quote: Flag\n",
            "--------------------------------------------------\n",
            "Quote: Flag\n",
            "--------------------------------------------------\n",
            "Quote: Flag\n",
            "--------------------------------------------------\n",
            "Quote: Flag\n",
            "--------------------------------------------------\n",
            "Quote: Flag\n",
            "--------------------------------------------------\n",
            "Quote: Flag\n",
            "--------------------------------------------------\n",
            "Quote: Flag\n",
            "--------------------------------------------------\n",
            "Quote: Flag\n",
            "--------------------------------------------------\n",
            "Quote: Flag\n",
            "--------------------------------------------------\n"
          ]
        }
      ]
    },
    {
      "cell_type": "code",
      "source": [
        "quotes = []\n",
        "for item in list_items:\n",
        "    img = item.find('img')\n",
        "\n",
        "    if img:\n",
        "        quote = img.get('alt', 'Tidak ada quotes').strip()\n",
        "        quotes.append(quote)\n",
        "\n",
        "filtered_quotes = [quote for quote in quotes if quote.lower() != 'flag' and quote not in ['Pernyataan oleh Nelson Mandela', 'Pernyataan oleh Pramoedya Ananta Toer', 'Pernyataan oleh Soekarno', 'Pernyataan oleh Ali bin Abi Thalib','Pernyataan oleh Albert Einstein', 'Pernyataan oleh Tere Liye', 'Pernyataan oleh Mario Teguh', 'Pernyataan oleh Buya Hamka']]\n",
        "for quote in filtered_quotes:\n",
        "    print(f\"Quote: {quote}\")\n",
        "    print('-' * 50)"
      ],
      "metadata": {
        "colab": {
          "base_uri": "https://localhost:8080/"
        },
        "id": "J_QkeqnOz7bI",
        "outputId": "da8a8b41-1b64-4ecb-c7d4-bdac644117d5"
      },
      "execution_count": 27,
      "outputs": [
        {
          "output_type": "stream",
          "name": "stdout",
          "text": [
            "Quote: Aku sudah pernah merasakan semua kepahitan dalam hidup dan yang paling pahit ialah berharap kepada manusia.\n",
            "--------------------------------------------------\n",
            "Quote: Janganlah engkau mengucapkan perkataan yang engkau sendiri tak suka mendengarnya jika orang lain mengucapkannya kepadamu.\n",
            "--------------------------------------------------\n",
            "Quote: Kesabaran itu ada dua macam: sabar atas sesuatu yang tidak kau ingin dan sabar menahan diri dari sesuatu yang kau ingini.\n",
            "--------------------------------------------------\n",
            "Quote: Cinta itu perang, yakni perang yang hebat dalam rohani manusia. Jika ia menang, akan didapati orang yang tulus ikhlas, luas pikiran, sabar dan tenang hati. Jika ia kalah, akan didapati orang yang putus asa, sesat, lemah hati, kecil perasaan dan bahkan kadang-kadang hilang kepercayaan pada diri sendi\n",
            "--------------------------------------------------\n",
            "Quote: Cinta selalu saja misterius. Jangan diburu-buru, atau kau akan merusak jalan ceritanya sendiri.\n",
            "--------------------------------------------------\n",
            "Quote: Jangan menjelaskan tentang dirimu kepada siapapun, karena yang menyukaimu tidak butuh itu. Dan yang membencimu tidak percaya itu.\n",
            "--------------------------------------------------\n",
            "Quote: Orang bodoh seringkali beralasan sabar terhadap segala sesuatu yang sebenarnya dia mengalah dengan keadaan tanpa pernah berusaha.\n",
            "--------------------------------------------------\n",
            "Quote: Jadilah kamu manusia yang pada kelahiranmu semua orang tertawa bahagia, tetapi hanya kamu sendiri yang menangis dan pada kematianmu semua orang menangis sedih, tetapi hanya kamu sendiri yang tersenyum.\n",
            "--------------------------------------------------\n"
          ]
        }
      ]
    },
    {
      "cell_type": "code",
      "source": [
        "bs.find_all('img', {'src':'images/onbekend.jpg'})"
      ],
      "metadata": {
        "colab": {
          "base_uri": "https://localhost:8080/"
        },
        "id": "WvKMUZOMn8QX",
        "outputId": "6faed479-d5fe-4a0b-e57c-27ab82d151d9"
      },
      "execution_count": 21,
      "outputs": [
        {
          "output_type": "execute_result",
          "data": {
            "text/plain": [
              "[<img alt=\"Pernyataan oleh Nelson Mandela\" data-src=\"https://jagokata.com/images/fotos/Nelson_Mandela.jpg\" height=\"53\" src=\"images/onbekend.jpg\" width=\"40\"/>,\n",
              " <img alt=\"Pernyataan oleh Pramoedya Ananta Toer\" data-src=\"https://jagokata.com/images/fotos/Pramoedya_Ananta_Toer.jpg\" height=\"53\" src=\"images/onbekend.jpg\" width=\"40\"/>,\n",
              " <img alt=\"Pernyataan oleh Soekarno\" data-src=\"https://jagokata.com/images/fotos/Soekarno.jpg\" height=\"53\" src=\"images/onbekend.jpg\" width=\"40\"/>,\n",
              " <img alt=\"Pernyataan oleh Ali bin Abi Thalib\" data-src=\"https://jagokata.com/images/fotos/Ali_bin_Abi_Thalib.jpg\" height=\"53\" src=\"images/onbekend.jpg\" width=\"40\"/>,\n",
              " <img alt=\"Pernyataan oleh Tere Liye\" data-src=\"https://jagokata.com/images/fotos/Tere_Liye.jpg\" height=\"53\" src=\"images/onbekend.jpg\" width=\"40\"/>,\n",
              " <img alt=\"Pernyataan oleh Albert Einstein\" data-src=\"https://jagokata.com/images/fotos/Albert_Einstein.jpg\" height=\"53\" src=\"images/onbekend.jpg\" width=\"40\"/>,\n",
              " <img alt=\"Pernyataan oleh Mario Teguh\" data-src=\"https://jagokata.com/images/fotos/Mario_Teguh.jpg\" height=\"53\" src=\"images/onbekend.jpg\" width=\"40\"/>,\n",
              " <img alt=\"Pernyataan oleh Buya Hamka\" data-src=\"https://jagokata.com/images/fotos/Buya_Hamka.jpg\" height=\"53\" src=\"images/onbekend.jpg\" width=\"40\"/>]"
            ]
          },
          "metadata": {},
          "execution_count": 21
        }
      ]
    },
    {
      "cell_type": "code",
      "source": [
        "img_elements = [\n",
        "    {\"alt\": \"Pernyataan oleh Nelson Mandela\", \"data-src\": \"https://jagokata.com/images/fotos/Nelson_Mandela.jpg\"},\n",
        "    {\"alt\": \"Pernyataan oleh Pramoedya Ananta Toer\", \"data-src\": \"https://jagokata.com/images/fotos/Pramoedya_Ananta_Toer.jpg\"},\n",
        "    {\"alt\": \"Pernyataan oleh Soekarno\", \"data-src\": \"https://jagokata.com/images/fotos/Soekarno.jpg\"},\n",
        "    {\"alt\": \"Pernyataan oleh Ali bin Abi Thalib\", \"data-src\": \"https://jagokata.com/images/fotos/Ali_bin_Abi_Thalib.jpg\"},\n",
        "    {\"alt\": \"Pernyataan oleh Tere Liye\", \"data-src\": \"https://jagokata.com/images/fotos/Tere_Liye.jpg\"},\n",
        "    {\"alt\": \"Pernyataan oleh Albert Einstein\", \"data-src\": \"https://jagokata.com/images/fotos/Albert_Einstein.jpg\"},\n",
        "    {\"alt\": \"Pernyataan oleh Mario Teguh\", \"data-src\": \"https://jagokata.com/images/fotos/Mario_Teguh.jpg\"},\n",
        "    {\"alt\": \"Pernyataan oleh Buya Hamka\", \"data-src\": \"https://jagokata.com/images/fotos/Buya_Hamka.jpg\"}\n",
        "]\n",
        "\n",
        "for img in img_elements:\n",
        "    nama_tokoh = img['alt'].replace('Pernyataan oleh ', '')\n",
        "    print(f\"Nama Tokoh: {nama_tokoh}\")\n",
        "    display(Image(url=img['data-src']))"
      ],
      "metadata": {
        "colab": {
          "base_uri": "https://localhost:8080/",
          "height": 1000
        },
        "id": "FVK3OOayvDY7",
        "outputId": "a6fd135c-b9d1-41bd-8a09-bed46ecf5ecc"
      },
      "execution_count": 28,
      "outputs": [
        {
          "output_type": "stream",
          "name": "stdout",
          "text": [
            "Nama Tokoh: Nelson Mandela\n"
          ]
        },
        {
          "output_type": "display_data",
          "data": {
            "text/html": [
              "<img src=\"https://jagokata.com/images/fotos/Nelson_Mandela.jpg\"/>"
            ],
            "text/plain": [
              "<IPython.core.display.Image object>"
            ]
          },
          "metadata": {}
        },
        {
          "output_type": "stream",
          "name": "stdout",
          "text": [
            "Nama Tokoh: Pramoedya Ananta Toer\n"
          ]
        },
        {
          "output_type": "display_data",
          "data": {
            "text/html": [
              "<img src=\"https://jagokata.com/images/fotos/Pramoedya_Ananta_Toer.jpg\"/>"
            ],
            "text/plain": [
              "<IPython.core.display.Image object>"
            ]
          },
          "metadata": {}
        },
        {
          "output_type": "stream",
          "name": "stdout",
          "text": [
            "Nama Tokoh: Soekarno\n"
          ]
        },
        {
          "output_type": "display_data",
          "data": {
            "text/html": [
              "<img src=\"https://jagokata.com/images/fotos/Soekarno.jpg\"/>"
            ],
            "text/plain": [
              "<IPython.core.display.Image object>"
            ]
          },
          "metadata": {}
        },
        {
          "output_type": "stream",
          "name": "stdout",
          "text": [
            "Nama Tokoh: Ali bin Abi Thalib\n"
          ]
        },
        {
          "output_type": "display_data",
          "data": {
            "text/html": [
              "<img src=\"https://jagokata.com/images/fotos/Ali_bin_Abi_Thalib.jpg\"/>"
            ],
            "text/plain": [
              "<IPython.core.display.Image object>"
            ]
          },
          "metadata": {}
        },
        {
          "output_type": "stream",
          "name": "stdout",
          "text": [
            "Nama Tokoh: Tere Liye\n"
          ]
        },
        {
          "output_type": "display_data",
          "data": {
            "text/html": [
              "<img src=\"https://jagokata.com/images/fotos/Tere_Liye.jpg\"/>"
            ],
            "text/plain": [
              "<IPython.core.display.Image object>"
            ]
          },
          "metadata": {}
        },
        {
          "output_type": "stream",
          "name": "stdout",
          "text": [
            "Nama Tokoh: Albert Einstein\n"
          ]
        },
        {
          "output_type": "display_data",
          "data": {
            "text/html": [
              "<img src=\"https://jagokata.com/images/fotos/Albert_Einstein.jpg\"/>"
            ],
            "text/plain": [
              "<IPython.core.display.Image object>"
            ]
          },
          "metadata": {}
        },
        {
          "output_type": "stream",
          "name": "stdout",
          "text": [
            "Nama Tokoh: Mario Teguh\n"
          ]
        },
        {
          "output_type": "display_data",
          "data": {
            "text/html": [
              "<img src=\"https://jagokata.com/images/fotos/Mario_Teguh.jpg\"/>"
            ],
            "text/plain": [
              "<IPython.core.display.Image object>"
            ]
          },
          "metadata": {}
        },
        {
          "output_type": "stream",
          "name": "stdout",
          "text": [
            "Nama Tokoh: Buya Hamka\n"
          ]
        },
        {
          "output_type": "display_data",
          "data": {
            "text/html": [
              "<img src=\"https://jagokata.com/images/fotos/Buya_Hamka.jpg\"/>"
            ],
            "text/plain": [
              "<IPython.core.display.Image object>"
            ]
          },
          "metadata": {}
        }
      ]
    }
  ]
}
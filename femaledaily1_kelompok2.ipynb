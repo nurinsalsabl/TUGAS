{
  "cells": [
    {
      "cell_type": "markdown",
      "metadata": {
        "id": "view-in-github",
        "colab_type": "text"
      },
      "source": [
        "<a href=\"https://colab.research.google.com/github/nurinsalsabl/TUGAS/blob/main/femaledaily1_kelompok2.ipynb\" target=\"_parent\"><img src=\"https://colab.research.google.com/assets/colab-badge.svg\" alt=\"Open In Colab\"/></a>"
      ]
    },
    {
      "cell_type": "code",
      "execution_count": 138,
      "metadata": {
        "id": "TbKiucus53ac"
      },
      "outputs": [],
      "source": [
        "from bs4 import BeautifulSoup\n",
        "import requests as rs\n",
        "import pandas as pd\n",
        "import re\n",
        "import string"
      ]
    },
    {
      "cell_type": "markdown",
      "metadata": {
        "id": "tcyuA0bfvZlf"
      },
      "source": [
        "# **start**"
      ]
    },
    {
      "cell_type": "code",
      "execution_count": 139,
      "metadata": {
        "colab": {
          "base_uri": "https://localhost:8080/"
        },
        "id": "4Z_qPwik79G5",
        "outputId": "c83e0d75-353c-455f-f48d-3df62a849287"
      },
      "outputs": [
        {
          "output_type": "execute_result",
          "data": {
            "text/plain": [
              "<Response [200]>"
            ]
          },
          "metadata": {},
          "execution_count": 139
        }
      ],
      "source": [
        "link = 'https://reviews.femaledaily.com/products/eyes/mascara/maybelline/volum-express-hyper-curl-54?cat=&cat_id=0&age_range=&skin_type=&skin_tone=&skin_undertone=&hair_texture=&hair_type=&order=newest&page='\n",
        "page_response = rs.get(link)\n",
        "page_response"
      ]
    },
    {
      "cell_type": "code",
      "execution_count": 140,
      "metadata": {
        "colab": {
          "base_uri": "https://localhost:8080/"
        },
        "id": "xibV6cyD-k3B",
        "outputId": "99f5e455-7bc0-4e19-a3be-760a9d71a544"
      },
      "outputs": [
        {
          "output_type": "stream",
          "name": "stdout",
          "text": [
            "aku udah lama banget pakai mascara ini, dan emang sebagus ituu tidak mudah luntur walaupun terkena air. bahkan nih yaa, pas dibersihin pakai oil cleansing aja masih ada yg sisaa memang se Waterproof itu produk ini, dan kalau buru buru mau pergi pakai dikit aja bulu mata udah baguss\n",
            "Erarevina_S recommends this product!\n",
            "a day ago\n",
            "Erarevina_S\n"
          ]
        }
      ],
      "source": [
        "soup = BeautifulSoup(page_response.text, 'html.parser')\n",
        "rev = soup.find('p', {'class': 'text-content'}).text\n",
        "print (rev)\n",
        "rekom = soup.find('p', {'class':\"recommend\"}).text\n",
        "print (rekom)\n",
        "tanggal = soup.find('p', {'class':\"review-date\"}).text\n",
        "print (tanggal)\n",
        "reviewer = soup.find('p', {'class':\"profile-username\"}).text\n",
        "print (reviewer)\n"
      ]
    },
    {
      "cell_type": "code",
      "execution_count": 141,
      "metadata": {
        "id": "NZKR9SFfl66V"
      },
      "outputs": [],
      "source": [
        "review = []\n",
        "tanggal = []\n",
        "reviewer = []\n",
        "\n",
        "root = 'https://reviews.femaledaily.com/products/eyes/mascara/maybelline/volum-express-hyper-curl-54?cat=&cat_id=0&age_range=&skin_type=&skin_tone=&skin_undertone=&hair_texture=&hair_type=&order=newest&page='\n"
      ]
    },
    {
      "cell_type": "code",
      "execution_count": 142,
      "metadata": {
        "id": "VRzg8Pfdpmtd"
      },
      "outputs": [],
      "source": [
        "\n",
        "for page in range(1, 100):\n",
        "    url = rs.get(root + str(page))\n",
        "    soup = BeautifulSoup(url.text, 'html.parser')\n",
        "\n",
        "    def scraping(soup):\n",
        "        ulasan = soup.findAll('div', {'class': 'review-card'})\n",
        "\n",
        "        for i in ulasan:\n",
        "            rev = i.find(\"p\", {\"class\": \"text-content\"})\n",
        "            tgl = i.find(\"p\", {\"class\": \"review-date\"})\n",
        "            nama = i.find(\"p\", {\"class\": \"profile-username\"})\n",
        "            if tgl:\n",
        "                tgl_text = tgl.text.strip()\n",
        "                if re.search(r'(Jun|Jul|Aug|Sep)\\s+2024', tgl_text):\n",
        "                  tanggal.append(tgl.text.strip() if tgl else None)\n",
        "                  review.append(rev.text.strip() if rev else None)\n",
        "                  reviewer.append(nama.text.strip() if nama else None)\n",
        "\n",
        "    scraping(soup)"
      ]
    },
    {
      "cell_type": "code",
      "execution_count": 143,
      "metadata": {
        "id": "JUofRbi0lxnY"
      },
      "outputs": [],
      "source": [
        "df = pd.DataFrame({\n",
        "    'Tanggal': tanggal,\n",
        "    'Reviewer': reviewer,\n",
        "    'Review': review\n",
        "})"
      ]
    },
    {
      "cell_type": "code",
      "execution_count": 144,
      "metadata": {
        "id": "-LDLkbxMmCrw",
        "colab": {
          "base_uri": "https://localhost:8080/"
        },
        "outputId": "396fd444-505b-48db-bf27-c99bfee946c4"
      },
      "outputs": [
        {
          "output_type": "stream",
          "name": "stdout",
          "text": [
            "Data berhasil disimpan ke \"review_produk.csv\". Total halaman yang di-scrap: 98\n"
          ]
        }
      ],
      "source": [
        "df = df.reindex(columns=['Tanggal', 'Reviewer', 'Review'])\n",
        "df.to_csv(\"review_produk.csv\", index=False, encoding='utf-8-sig')\n",
        "print(f'Data berhasil disimpan ke \"review_produk.csv\". Total halaman yang di-scrap: {page - 1}')"
      ]
    },
    {
      "cell_type": "code",
      "source": [
        "def preprocess_lowercase(df, columns):\n",
        "    for col in columns:\n",
        "        if col in df.columns:\n",
        "            df[col] = df[col].str.lower()  # Mengubah teks di kolom menjadi lowercase\n",
        "        else:\n",
        "            print(f\"Kolom {col} tidak ditemukan di DataFrame.\")\n",
        "    return df\n",
        "\n"
      ],
      "metadata": {
        "id": "PoGjNJOK52HG"
      },
      "execution_count": 145,
      "outputs": []
    },
    {
      "cell_type": "code",
      "source": [
        "def remove_emoticons(text):\n",
        "    emoticon_pattern = r'[:;=][oO\\-]?[\\)DdpP3/\\\\|o\\[\\]{}<>]'\n",
        "    return re.sub(emoticon_pattern, '', text)"
      ],
      "metadata": {
        "id": "6eu63K_H6AcH"
      },
      "execution_count": 146,
      "outputs": []
    },
    {
      "cell_type": "code",
      "source": [
        "def preprocess_remove_emoticons(df, columns):\n",
        "    for col in columns:\n",
        "        if col in df.columns:\n",
        "            df[col] = df[col].apply(remove_emoticons)  # Menghapus emotikon di kolom asli\n",
        "        else:\n",
        "            print(f\"Kolom {col} tidak ditemukan di DataFrame.\")\n",
        "    return df"
      ],
      "metadata": {
        "id": "PcoWEvSe6Eo1"
      },
      "execution_count": 147,
      "outputs": []
    },
    {
      "cell_type": "code",
      "source": [
        "def remove_punctuation(text):\n",
        "    if isinstance(text, str):\n",
        "        return re.sub(r'[^a-z\\s]', '', text)  # Menghapus semua karakter kecuali huruf, angka, dan spasi\n",
        "    return text"
      ],
      "metadata": {
        "id": "MDOr0okA6JAr"
      },
      "execution_count": 153,
      "outputs": []
    },
    {
      "cell_type": "code",
      "source": [
        "def preprocess_remove_punctuation(df, columns):\n",
        "    for col in columns:\n",
        "        if col in df.columns:\n",
        "            df[col] = df[col].apply(remove_punctuation)  # Menghapus punctuation di kolom asli\n",
        "        else:\n",
        "            print(f\"Kolom {col} tidak ditemukan di DataFrame.\")\n",
        "    return df\n"
      ],
      "metadata": {
        "id": "A8D7EQLW6b79"
      },
      "execution_count": 154,
      "outputs": []
    },
    {
      "cell_type": "code",
      "source": [
        "stopwords = ['di', 'ke', 'dari', 'pada', 'untuk', 'dengan', 'adalah', 'yang', 'dan', 'atau',\n",
        "             'jika', 'itu', 'ini', 'tetapi', 'karena','juga', 'akan', 'telah', 'dalam', 'bnr2',\n",
        "             'soal', 'semua', 'aja', 'doang', 'sama', 'banget', 'apalagi', 'emang',\n",
        "             'kalo', 'jadi', 'untuk', 'tuh', 'makanya', 'dulu', 'masih', 'pas','sih', 'gitu',\n",
        "             'menurut', 'ya', 'bikin', 'buat', 'ada']\n",
        "def preprocess_remove_stopwords(text):\n",
        "    words = text.split()\n",
        "    filtered_words = [word for word in words if word.lower() not in stopwords]\n",
        "    return ' '.join(filtered_words)\n",
        "\n",
        "df['Review'] = df['Review'].apply(lambda x: remove_stopwords(x))"
      ],
      "metadata": {
        "id": "Snmq12rM7ZpH"
      },
      "execution_count": 155,
      "outputs": []
    },
    {
      "cell_type": "code",
      "source": [
        "df = pd.DataFrame({\n",
        "    'Tanggal': tanggal,\n",
        "    'Reviewer': reviewer,\n",
        "    'Review': review\n",
        "})"
      ],
      "metadata": {
        "id": "uZClFbe66fpl"
      },
      "execution_count": 156,
      "outputs": []
    },
    {
      "cell_type": "code",
      "source": [
        "df = preprocess_lowercase(df, ['Reviewer', 'Review'])\n",
        "df = preprocess_remove_emoticons(df, ['Review'])\n",
        "df = preprocess_remove_punctuation(df, ['Review'])"
      ],
      "metadata": {
        "id": "bNwTPE-j6jyd"
      },
      "execution_count": 157,
      "outputs": []
    },
    {
      "cell_type": "code",
      "source": [
        "print(df.head)"
      ],
      "metadata": {
        "colab": {
          "base_uri": "https://localhost:8080/"
        },
        "id": "FjSUr0fm64LK",
        "outputId": "05f79f45-91b1-4b44-d6c5-eb77d83a907a"
      },
      "execution_count": 158,
      "outputs": [
        {
          "output_type": "stream",
          "name": "stdout",
          "text": [
            "<bound method NDFrame.head of          Tanggal       Reviewer  \\\n",
            "0    30 Sep 2024        saroh10   \n",
            "1    30 Sep 2024    sekarrmln24   \n",
            "2    30 Sep 2024   niethakopa85   \n",
            "3    29 Sep 2024          shea6   \n",
            "4    29 Sep 2024     runilaanwr   \n",
            "..           ...            ...   \n",
            "421  04 Jun 2024  izzasalsabila   \n",
            "422  04 Jun 2024     floryartus   \n",
            "423  04 Jun 2024  mawarsyafitri   \n",
            "424  03 Jun 2024    shakiladian   \n",
            "425  02 Jun 2024    ratrigandis   \n",
            "\n",
            "                                                Review  \n",
            "0    ini mascaraaaaaa kecintaaan gue bangett sumpaa...  \n",
            "1    salah satu mascara fav apalagi buat daily kare...  \n",
            "2    ini tuh maskara pertama yang aku pakai dari pa...  \n",
            "3    dulu pakai ini pas masih smabuat anak sma masi...  \n",
            "4    bulumata ku tipe yang lurus terus agak kaku be...  \n",
            "..                                                 ...  \n",
            "421  beuhh baru dipake sejam doang bawah mata udah ...  \n",
            "422  bagus bgt worth to buy harganya juga murah ga ...  \n",
            "423  maskara yang menambah volume bulu mata design ...  \n",
            "424  mascara andalan waktu jaman aku kuliah karena ...  \n",
            "425  cantikkkk bangettt karena cowo akk ngelarang b...  \n",
            "\n",
            "[426 rows x 3 columns]>\n"
          ]
        }
      ]
    },
    {
      "cell_type": "code",
      "source": [
        "df.to_csv(\"review_processed.csv\", index=False, encoding='utf-8-sig')"
      ],
      "metadata": {
        "id": "NCO8Opcw6vve"
      },
      "execution_count": 159,
      "outputs": []
    },
    {
      "cell_type": "code",
      "source": [
        "from nltk import word_tokenize\n",
        "import nltk\n",
        "nltk.download('punkt')"
      ],
      "metadata": {
        "colab": {
          "base_uri": "https://localhost:8080/"
        },
        "id": "uslT-SH3e2iv",
        "outputId": "7fe9bb4b-d807-4e2b-9720-eef9c767d055"
      },
      "execution_count": 160,
      "outputs": [
        {
          "output_type": "stream",
          "name": "stderr",
          "text": [
            "[nltk_data] Downloading package punkt to /root/nltk_data...\n",
            "[nltk_data]   Package punkt is already up-to-date!\n"
          ]
        },
        {
          "output_type": "execute_result",
          "data": {
            "text/plain": [
              "True"
            ]
          },
          "metadata": {},
          "execution_count": 160
        }
      ]
    },
    {
      "cell_type": "code",
      "source": [
        "data = {\n",
        "    'slang': ['ga', 'gak', 'aku', 'gue', 'tp', 'lo', 'banget', 'krn', 'tks', 'yg'],\n",
        "    'formal': ['tidak', 'tidak', 'saya', 'saya', 'tapi', 'kamu', 'sangat', 'karena', 'terima kasih', 'yang']\n",
        "}"
      ],
      "metadata": {
        "id": "X6upqDUee5h7"
      },
      "execution_count": 161,
      "outputs": []
    },
    {
      "cell_type": "code",
      "source": [
        "df_slang = pd.DataFrame(data)\n",
        "df_slang.to_csv('colloquial_indonesian_lexicon.csv', index=False, encoding='utf-8-sig')\n",
        "print(\"File CSV kamus slang telah dibuat!\")"
      ],
      "metadata": {
        "colab": {
          "base_uri": "https://localhost:8080/"
        },
        "id": "A11KbL8gfCJc",
        "outputId": "35adb880-40a0-44b8-eccc-03b2da67ed33"
      },
      "execution_count": 162,
      "outputs": [
        {
          "output_type": "stream",
          "name": "stdout",
          "text": [
            "File CSV kamus slang telah dibuat!\n"
          ]
        }
      ]
    },
    {
      "cell_type": "code",
      "source": [
        "df_slang = pd.read_csv('colloquial_indonesian_lexicon.csv')"
      ],
      "metadata": {
        "id": "xzXA35zpfQj7"
      },
      "execution_count": 163,
      "outputs": []
    },
    {
      "cell_type": "code",
      "source": [
        "dict_alay = df_slang.set_index('slang')['formal'].to_dict()"
      ],
      "metadata": {
        "id": "lyvSFA44fWm6"
      },
      "execution_count": 165,
      "outputs": []
    },
    {
      "cell_type": "code",
      "source": [
        "def normalize_text(data):\n",
        "    try:\n",
        "        word_tokens = word_tokenize(data)\n",
        "    except Exception as e:\n",
        "        print(f\"Error in tokenization: {e}\")\n",
        "        return data\n",
        "    result = [dict_alay.get(wt, wt) for wt in word_tokens]\n",
        "    return ' '.join(result)\n"
      ],
      "metadata": {
        "id": "DQLjx3tTfd4V"
      },
      "execution_count": 164,
      "outputs": []
    },
    {
      "cell_type": "code",
      "source": [
        "df_reviews = pd.read_csv('review_processed.csv')\n",
        "df_reviews['Review_Normalized'] = df_reviews['Review'].apply(normalize_text)\n",
        "df_reviews.to_csv(\"review_produk_normalized.csv\", index=False, encoding='utf-8-sig')\n",
        "print(\"Data review berhasil dinormalisasi dan disimpan ke 'review_produk_normalized.csv'.\")"
      ],
      "metadata": {
        "colab": {
          "base_uri": "https://localhost:8080/"
        },
        "id": "0MxyquIUfiEO",
        "outputId": "fb540542-c2e7-45d4-c500-3e4522c01fc3"
      },
      "execution_count": 166,
      "outputs": [
        {
          "output_type": "stream",
          "name": "stdout",
          "text": [
            "Data review berhasil dinormalisasi dan disimpan ke 'review_produk_normalized.csv'.\n"
          ]
        }
      ]
    }
  ],
  "metadata": {
    "colab": {
      "provenance": [],
      "include_colab_link": true
    },
    "kernelspec": {
      "display_name": "Python 3",
      "name": "python3"
    },
    "language_info": {
      "name": "python"
    }
  },
  "nbformat": 4,
  "nbformat_minor": 0
}